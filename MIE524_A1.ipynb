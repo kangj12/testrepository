{
  "nbformat": 4,
  "nbformat_minor": 0,
  "metadata": {
    "colab": {
      "provenance": [],
      "include_colab_link": true
    },
    "kernelspec": {
      "name": "python3",
      "display_name": "Python 3"
    },
    "language_info": {
      "name": "python"
    }
  },
  "cells": [
    {
      "cell_type": "markdown",
      "metadata": {
        "id": "view-in-github",
        "colab_type": "text"
      },
      "source": [
        "<a href=\"https://colab.research.google.com/github/kangj12/testrepository/blob/main/MIE524_A1.ipynb\" target=\"_parent\"><img src=\"https://colab.research.google.com/assets/colab-badge.svg\" alt=\"Open In Colab\"/></a>"
      ]
    },
    {
      "cell_type": "markdown",
      "source": [
        "# MIE524 - Assignment 1\n"
      ],
      "metadata": {
        "id": "P3rGTK43YrNz"
      }
    },
    {
      "cell_type": "markdown",
      "source": [
        "## Setup"
      ],
      "metadata": {
        "id": "sk5Fl4bBY4k5"
      }
    },
    {
      "cell_type": "markdown",
      "source": [
        "Let's set up Spark on your Colab environment.  Run the cell below!"
      ],
      "metadata": {
        "id": "KVBFUi_sY_Rl"
      }
    },
    {
      "cell_type": "code",
      "execution_count": 1,
      "metadata": {
        "colab": {
          "base_uri": "https://localhost:8080/"
        },
        "id": "mV-AdHT2Yk_4",
        "outputId": "331ec999-ce21-498f-8f8f-2281db8ff753"
      },
      "outputs": [
        {
          "output_type": "stream",
          "name": "stdout",
          "text": [
            "Collecting pyspark\n",
            "  Downloading pyspark-3.5.3.tar.gz (317.3 MB)\n",
            "\u001b[2K     \u001b[90m━━━━━━━━━━━━━━━━━━━━━━━━━━━━━━━━━━━━━━━━\u001b[0m \u001b[32m317.3/317.3 MB\u001b[0m \u001b[31m4.2 MB/s\u001b[0m eta \u001b[36m0:00:00\u001b[0m\n",
            "\u001b[?25h  Preparing metadata (setup.py) ... \u001b[?25l\u001b[?25hdone\n",
            "Requirement already satisfied: py4j==0.10.9.7 in /usr/local/lib/python3.10/dist-packages (from pyspark) (0.10.9.7)\n",
            "Building wheels for collected packages: pyspark\n",
            "  Building wheel for pyspark (setup.py) ... \u001b[?25l\u001b[?25hdone\n",
            "  Created wheel for pyspark: filename=pyspark-3.5.3-py2.py3-none-any.whl size=317840625 sha256=7e06a11fae49c7f0e2114a284cfc462924d719fa16db1a47f6603d8090b96c8d\n",
            "  Stored in directory: /root/.cache/pip/wheels/1b/3a/92/28b93e2fbfdbb07509ca4d6f50c5e407f48dce4ddbda69a4ab\n",
            "Successfully built pyspark\n",
            "Installing collected packages: pyspark\n",
            "Successfully installed pyspark-3.5.3\n",
            "The following additional packages will be installed:\n",
            "  libxtst6 openjdk-8-jre-headless\n",
            "Suggested packages:\n",
            "  openjdk-8-demo openjdk-8-source libnss-mdns fonts-dejavu-extra fonts-nanum fonts-ipafont-gothic\n",
            "  fonts-ipafont-mincho fonts-wqy-microhei fonts-wqy-zenhei fonts-indic\n",
            "The following NEW packages will be installed:\n",
            "  libxtst6 openjdk-8-jdk-headless openjdk-8-jre-headless\n",
            "0 upgraded, 3 newly installed, 0 to remove and 49 not upgraded.\n",
            "Need to get 39.6 MB of archives.\n",
            "After this operation, 144 MB of additional disk space will be used.\n",
            "Selecting previously unselected package libxtst6:amd64.\n",
            "(Reading database ... 123605 files and directories currently installed.)\n",
            "Preparing to unpack .../libxtst6_2%3a1.2.3-1build4_amd64.deb ...\n",
            "Unpacking libxtst6:amd64 (2:1.2.3-1build4) ...\n",
            "Selecting previously unselected package openjdk-8-jre-headless:amd64.\n",
            "Preparing to unpack .../openjdk-8-jre-headless_8u422-b05-1~22.04_amd64.deb ...\n",
            "Unpacking openjdk-8-jre-headless:amd64 (8u422-b05-1~22.04) ...\n",
            "Selecting previously unselected package openjdk-8-jdk-headless:amd64.\n",
            "Preparing to unpack .../openjdk-8-jdk-headless_8u422-b05-1~22.04_amd64.deb ...\n",
            "Unpacking openjdk-8-jdk-headless:amd64 (8u422-b05-1~22.04) ...\n",
            "Setting up libxtst6:amd64 (2:1.2.3-1build4) ...\n",
            "Setting up openjdk-8-jre-headless:amd64 (8u422-b05-1~22.04) ...\n",
            "update-alternatives: using /usr/lib/jvm/java-8-openjdk-amd64/jre/bin/orbd to provide /usr/bin/orbd (orbd) in auto mode\n",
            "update-alternatives: using /usr/lib/jvm/java-8-openjdk-amd64/jre/bin/servertool to provide /usr/bin/servertool (servertool) in auto mode\n",
            "update-alternatives: using /usr/lib/jvm/java-8-openjdk-amd64/jre/bin/tnameserv to provide /usr/bin/tnameserv (tnameserv) in auto mode\n",
            "Setting up openjdk-8-jdk-headless:amd64 (8u422-b05-1~22.04) ...\n",
            "update-alternatives: using /usr/lib/jvm/java-8-openjdk-amd64/bin/clhsdb to provide /usr/bin/clhsdb (clhsdb) in auto mode\n",
            "update-alternatives: using /usr/lib/jvm/java-8-openjdk-amd64/bin/extcheck to provide /usr/bin/extcheck (extcheck) in auto mode\n",
            "update-alternatives: using /usr/lib/jvm/java-8-openjdk-amd64/bin/hsdb to provide /usr/bin/hsdb (hsdb) in auto mode\n",
            "update-alternatives: using /usr/lib/jvm/java-8-openjdk-amd64/bin/idlj to provide /usr/bin/idlj (idlj) in auto mode\n",
            "update-alternatives: using /usr/lib/jvm/java-8-openjdk-amd64/bin/javah to provide /usr/bin/javah (javah) in auto mode\n",
            "update-alternatives: using /usr/lib/jvm/java-8-openjdk-amd64/bin/jhat to provide /usr/bin/jhat (jhat) in auto mode\n",
            "update-alternatives: using /usr/lib/jvm/java-8-openjdk-amd64/bin/jsadebugd to provide /usr/bin/jsadebugd (jsadebugd) in auto mode\n",
            "update-alternatives: using /usr/lib/jvm/java-8-openjdk-amd64/bin/native2ascii to provide /usr/bin/native2ascii (native2ascii) in auto mode\n",
            "update-alternatives: using /usr/lib/jvm/java-8-openjdk-amd64/bin/schemagen to provide /usr/bin/schemagen (schemagen) in auto mode\n",
            "update-alternatives: using /usr/lib/jvm/java-8-openjdk-amd64/bin/wsgen to provide /usr/bin/wsgen (wsgen) in auto mode\n",
            "update-alternatives: using /usr/lib/jvm/java-8-openjdk-amd64/bin/wsimport to provide /usr/bin/wsimport (wsimport) in auto mode\n",
            "update-alternatives: using /usr/lib/jvm/java-8-openjdk-amd64/bin/xjc to provide /usr/bin/xjc (xjc) in auto mode\n",
            "Processing triggers for libc-bin (2.35-0ubuntu3.4) ...\n",
            "/sbin/ldconfig.real: /usr/local/lib/libur_loader.so.0 is not a symbolic link\n",
            "\n",
            "/sbin/ldconfig.real: /usr/local/lib/libtbbmalloc_proxy.so.2 is not a symbolic link\n",
            "\n",
            "/sbin/ldconfig.real: /usr/local/lib/libtbbmalloc.so.2 is not a symbolic link\n",
            "\n",
            "/sbin/ldconfig.real: /usr/local/lib/libur_adapter_opencl.so.0 is not a symbolic link\n",
            "\n",
            "/sbin/ldconfig.real: /usr/local/lib/libtbbbind_2_5.so.3 is not a symbolic link\n",
            "\n",
            "/sbin/ldconfig.real: /usr/local/lib/libur_adapter_level_zero.so.0 is not a symbolic link\n",
            "\n",
            "/sbin/ldconfig.real: /usr/local/lib/libtbbbind.so.3 is not a symbolic link\n",
            "\n",
            "/sbin/ldconfig.real: /usr/local/lib/libtbb.so.12 is not a symbolic link\n",
            "\n",
            "/sbin/ldconfig.real: /usr/local/lib/libtbbbind_2_0.so.3 is not a symbolic link\n",
            "\n"
          ]
        }
      ],
      "source": [
        "!pip install pyspark\n",
        "!pip install -U -q PyDrive\n",
        "!apt install openjdk-8-jdk-headless -qq\n",
        "import os\n",
        "os.environ[\"JAVA_HOME\"] = \"/usr/lib/jvm/java-8-openjdk-amd64\""
      ]
    },
    {
      "cell_type": "markdown",
      "source": [
        "Now we authenticate a Google Drive client to download the file we will be processing in our Spark job.\n",
        "\n",
        "**Make sure to follow the interactive instructions.**"
      ],
      "metadata": {
        "id": "cCNkNzbNZEOp"
      }
    },
    {
      "cell_type": "code",
      "source": [
        "import pyspark\n",
        "from pyspark.sql import *\n",
        "from pyspark.sql.functions import *\n",
        "from pyspark import SparkContext, SparkConf\n",
        "import pandas as pd\n",
        "\n",
        "# create the Spark Session\n",
        "spark = SparkSession.builder.getOrCreate()\n",
        "\n",
        "# create the Spark Context\n",
        "sc = spark.sparkContext"
      ],
      "metadata": {
        "id": "LFZXyGgJZISe"
      },
      "execution_count": 2,
      "outputs": []
    },
    {
      "cell_type": "markdown",
      "source": [
        "Put all your imports, and path constants in the next cells."
      ],
      "metadata": {
        "id": "3flXijoNxGW5"
      }
    },
    {
      "cell_type": "code",
      "source": [],
      "metadata": {
        "id": "UZlFnHCuxPik"
      },
      "execution_count": 2,
      "outputs": []
    },
    {
      "cell_type": "markdown",
      "source": [
        "## Q1 - Message Count in Spark"
      ],
      "metadata": {
        "id": "zBzZCFTUZVIO"
      }
    },
    {
      "cell_type": "markdown",
      "source": [
        "### Load the dataset"
      ],
      "metadata": {
        "id": "NG8u58Eh3onu"
      }
    },
    {
      "cell_type": "code",
      "source": [
        "from pydrive.auth import GoogleAuth\n",
        "from pydrive.drive import GoogleDrive\n",
        "from google.colab import auth\n",
        "from oauth2client.client import GoogleCredentials\n",
        "\n",
        "# Authenticate and create the PyDrive client\n",
        "auth.authenticate_user()\n",
        "gauth = GoogleAuth()\n",
        "gauth.credentials = GoogleCredentials.get_application_default()\n",
        "drive = GoogleDrive(gauth)"
      ],
      "metadata": {
        "id": "pSLA9G5UZBI5",
        "colab": {
          "base_uri": "https://localhost:8080/"
        },
        "outputId": "94aa2605-db00-477e-9b33-0247edf37eff"
      },
      "execution_count": 3,
      "outputs": [
        {
          "output_type": "stream",
          "name": "stderr",
          "text": [
            "WARNING:root:pydrive is deprecated and no longer maintained. We recommend that you migrate your projects to pydrive2, the maintained fork of pydrive\n"
          ]
        }
      ]
    },
    {
      "cell_type": "code",
      "source": [
        "# first make sure to upload the werkmap_messages.csv file from the data folder of your starter repository to colab's files\n",
        "werkmap_message_data = 'werkmap_messages.csv'\n",
        "\n",
        "# load csv as Spark Dataframe and show result\n",
        "df = spark.read.options(delimiter=\";\", header=True).csv(werkmap_message_data)\n",
        "df.show()"
      ],
      "metadata": {
        "id": "z8-4i36t9AVy",
        "colab": {
          "base_uri": "https://localhost:8080/"
        },
        "outputId": "dea70b8b-3468-4092-aae9-14a98a1f1f66"
      },
      "execution_count": 4,
      "outputs": [
        {
          "output_type": "stream",
          "name": "stdout",
          "text": [
            "+----------+-----------+------+--------+--------+--------------------+---------------+-----------------+\n",
            "|CustomerID|AgeCategory|Gender|Office_U|Office_W|       EventDateTime|      EventType|HandlingChannelID|\n",
            "+----------+-----------+------+--------+--------+--------------------+---------------+-----------------+\n",
            "|   2032131|      18-29|     M|     271|     271|2015-11-02 01:36:...|Werkmap message|                1|\n",
            "|   2032131|      18-29|     M|     271|     271|2015-11-05 21:35:...|Werkmap message|                1|\n",
            "|   2032131|      18-29|     M|     271|     271|2015-11-06 15:47:...|Werkmap message|                1|\n",
            "|   2085395|      18-29|     V|     280|     280|2015-10-20 23:44:...|Werkmap message|                2|\n",
            "|   2085395|      18-29|     V|     280|     280|2016-01-20 23:04:...|Werkmap message|                2|\n",
            "|   2090314|      50-65|     V|     238|     238|2015-12-24 12:12:...|Werkmap message|                2|\n",
            "|   2088317|      18-29|     V|     269|     269|2015-11-18 20:34:...|Werkmap message|                1|\n",
            "|   2088317|      18-29|     V|     269|     269|2015-12-07 18:51:...|Werkmap message|                1|\n",
            "|   2088317|      18-29|     V|     269|     269|2016-02-02 09:38:...|Werkmap message|                1|\n",
            "|   2208302|      50-65|     V|     238|     238|2016-01-31 23:37:...|Werkmap message|                2|\n",
            "|   2139440|      18-29|     V|     280|     284|2016-02-07 16:43:...|Werkmap message|                2|\n",
            "|   2205449|      18-29|     V|     313|     318|2016-02-22 17:56:...|Werkmap message|                1|\n",
            "|   1589133|      50-65|     V|     296|     291|2016-02-01 17:28:...|Werkmap message|                1|\n",
            "|   2024271|      50-65|     M|     280|     280|2015-10-05 16:42:...|Werkmap message|                1|\n",
            "|   2063028|      50-65|     M|     280|     283|2015-09-24 17:47:...|Werkmap message|                1|\n",
            "|   2107620|      18-29|     V|     305|     307|2016-01-06 13:23:...|Werkmap message|                1|\n",
            "|   2107620|      18-29|     V|     305|     307|2016-01-19 12:52:...|Werkmap message|                1|\n",
            "|   1717913|      18-29|     V|     257|     304|2015-08-04 14:51:...|Werkmap message|                2|\n",
            "|   1589394|      50-65|     M|     280|     283|2016-02-04 09:56:...|Werkmap message|                1|\n",
            "|   2225916|      18-29|     V|     238|     269|2016-02-15 07:34:...|Werkmap message|                2|\n",
            "+----------+-----------+------+--------+--------+--------------------+---------------+-----------------+\n",
            "only showing top 20 rows\n",
            "\n"
          ]
        }
      ]
    },
    {
      "cell_type": "code",
      "source": [
        "# Print the data schema of the Dataframe\n",
        "df.printSchema()"
      ],
      "metadata": {
        "colab": {
          "base_uri": "https://localhost:8080/"
        },
        "id": "czoox-5SRu14",
        "outputId": "b5e0b071-261b-481f-a9f7-1cc41357810c"
      },
      "execution_count": 5,
      "outputs": [
        {
          "output_type": "stream",
          "name": "stdout",
          "text": [
            "root\n",
            " |-- CustomerID: string (nullable = true)\n",
            " |-- AgeCategory: string (nullable = true)\n",
            " |-- Gender: string (nullable = true)\n",
            " |-- Office_U: string (nullable = true)\n",
            " |-- Office_W: string (nullable = true)\n",
            " |-- EventDateTime: string (nullable = true)\n",
            " |-- EventType: string (nullable = true)\n",
            " |-- HandlingChannelID: string (nullable = true)\n",
            "\n"
          ]
        }
      ]
    },
    {
      "cell_type": "code",
      "source": [
        "# Convert EventDateTime from String to Timestamp\n",
        "df = df.withColumn(\"EventDateTime\", to_timestamp(col(\"EventDateTime\"), \"yyyy-MM-dd HH:mm:ss.SSSSSSS\"))\n",
        "\n",
        "df = df.withColumn(\"EventDateTime\", date_format(col(\"EventDateTime\"), \"yyyy-MM\"))\n",
        "df.show(truncate=False)"
      ],
      "metadata": {
        "colab": {
          "base_uri": "https://localhost:8080/"
        },
        "id": "ENYMZ04zStHf",
        "outputId": "b78c29ed-bc8c-42a7-cd74-9e2353ce3b36"
      },
      "execution_count": 6,
      "outputs": [
        {
          "output_type": "stream",
          "name": "stdout",
          "text": [
            "+----------+-----------+------+--------+--------+-------------+---------------+-----------------+\n",
            "|CustomerID|AgeCategory|Gender|Office_U|Office_W|EventDateTime|EventType      |HandlingChannelID|\n",
            "+----------+-----------+------+--------+--------+-------------+---------------+-----------------+\n",
            "|2032131   |18-29      |M     |271     |271     |2015-11      |Werkmap message|1                |\n",
            "|2032131   |18-29      |M     |271     |271     |2015-11      |Werkmap message|1                |\n",
            "|2032131   |18-29      |M     |271     |271     |2015-11      |Werkmap message|1                |\n",
            "|2085395   |18-29      |V     |280     |280     |2015-10      |Werkmap message|2                |\n",
            "|2085395   |18-29      |V     |280     |280     |2016-01      |Werkmap message|2                |\n",
            "|2090314   |50-65      |V     |238     |238     |2015-12      |Werkmap message|2                |\n",
            "|2088317   |18-29      |V     |269     |269     |2015-11      |Werkmap message|1                |\n",
            "|2088317   |18-29      |V     |269     |269     |2015-12      |Werkmap message|1                |\n",
            "|2088317   |18-29      |V     |269     |269     |2016-02      |Werkmap message|1                |\n",
            "|2208302   |50-65      |V     |238     |238     |2016-01      |Werkmap message|2                |\n",
            "|2139440   |18-29      |V     |280     |284     |2016-02      |Werkmap message|2                |\n",
            "|2205449   |18-29      |V     |313     |318     |2016-02      |Werkmap message|1                |\n",
            "|1589133   |50-65      |V     |296     |291     |2016-02      |Werkmap message|1                |\n",
            "|2024271   |50-65      |M     |280     |280     |2015-10      |Werkmap message|1                |\n",
            "|2063028   |50-65      |M     |280     |283     |2015-09      |Werkmap message|1                |\n",
            "|2107620   |18-29      |V     |305     |307     |2016-01      |Werkmap message|1                |\n",
            "|2107620   |18-29      |V     |305     |307     |2016-01      |Werkmap message|1                |\n",
            "|1717913   |18-29      |V     |257     |304     |2015-08      |Werkmap message|2                |\n",
            "|1589394   |50-65      |M     |280     |283     |2016-02      |Werkmap message|1                |\n",
            "|2225916   |18-29      |V     |238     |269     |2016-02      |Werkmap message|2                |\n",
            "+----------+-----------+------+--------+--------+-------------+---------------+-----------------+\n",
            "only showing top 20 rows\n",
            "\n"
          ]
        }
      ]
    },
    {
      "cell_type": "code",
      "source": [
        "# SQL Session\n",
        "df.createOrReplaceTempView(\"werkmap_messages\")\n",
        "\n",
        "query = \"\"\"\n",
        "SELECT EventDateTime, COUNT(*) as total_messages\n",
        "from werkmap_messages\n",
        "group by EventDateTime\n",
        "order by EventDateTime ASC\n",
        "\"\"\"\n",
        "\n",
        "message_counts = spark.sql(query)\n",
        "message_counts.show()"
      ],
      "metadata": {
        "colab": {
          "base_uri": "https://localhost:8080/"
        },
        "id": "29Px9I53Yz1Q",
        "outputId": "6fbbb967-c45e-4add-fd8d-5696250cccad"
      },
      "execution_count": 7,
      "outputs": [
        {
          "output_type": "stream",
          "name": "stdout",
          "text": [
            "+-------------+--------------+\n",
            "|EventDateTime|total_messages|\n",
            "+-------------+--------------+\n",
            "|      2015-07|          2933|\n",
            "|      2015-08|          3954|\n",
            "|      2015-09|          7079|\n",
            "|      2015-10|          8483|\n",
            "|      2015-11|          9695|\n",
            "|      2015-12|          9572|\n",
            "|      2016-01|         12582|\n",
            "|      2016-02|         11760|\n",
            "+-------------+--------------+\n",
            "\n"
          ]
        }
      ]
    },
    {
      "cell_type": "code",
      "source": [
        "message_counts = message_counts.toPandas()\n",
        "message_counts.to_csv(\"Q1.txt\", index=False)"
      ],
      "metadata": {
        "id": "cX931AsOWPg-"
      },
      "execution_count": 8,
      "outputs": []
    },
    {
      "cell_type": "markdown",
      "source": [
        "If you executed the cells above, you should be able to see the file *plotsummaries.txt* under the \"Files\" tab on the left panel."
      ],
      "metadata": {
        "id": "Zy7nM4ltZP3x"
      }
    },
    {
      "cell_type": "markdown",
      "source": [
        "### Write your function in the next cells"
      ],
      "metadata": {
        "id": "APxI9MCs4Ovz"
      }
    },
    {
      "cell_type": "code",
      "source": [
        "def get_month_year(row):\n",
        "    \"\"\"\n",
        "    INPUT:\n",
        "        row : a row of the input data\n",
        "    OUTPUT:\n",
        "        month_year : string\n",
        "    \"\"\"\n",
        "\n",
        "    # YOUR CODE HERE\n",
        "\n",
        "# You may have additional functions or modify the provided functions as necessary"
      ],
      "metadata": {
        "id": "82TmJ8Ii3u4q"
      },
      "execution_count": 9,
      "outputs": []
    },
    {
      "cell_type": "markdown",
      "source": [
        "## Run your function in the next cells to output required content."
      ],
      "metadata": {
        "id": "tcXHqu7q6IwZ"
      }
    },
    {
      "cell_type": "code",
      "source": [],
      "metadata": {
        "id": "ZAIIrExX5_H-"
      },
      "execution_count": 9,
      "outputs": []
    },
    {
      "cell_type": "markdown",
      "source": [
        "## PART 2 - Oxford Covid-19 Government Response Tracker"
      ],
      "metadata": {
        "id": "pYACdWmz6MUT"
      }
    },
    {
      "cell_type": "markdown",
      "source": [
        "### Load the dataset"
      ],
      "metadata": {
        "id": "7Cvzdbj37zyh"
      }
    },
    {
      "cell_type": "code",
      "source": [
        "#id='1J_2ido9_-LiasNi8xlzk5-DeHu-2_4Zs'\n",
        "id='1J_2ido9_-LiasNi8xlzk5-DeHu-2_4Zs'\n",
        "downloaded = drive.CreateFile({'id': id})\n",
        "downloaded.GetContentFile('OxCGRT_USA_latest.csv')"
      ],
      "metadata": {
        "id": "rfUnVaKo6WaR"
      },
      "execution_count": 10,
      "outputs": []
    },
    {
      "cell_type": "markdown",
      "source": [
        "### Q2 - Computing Index Score with Spark"
      ],
      "metadata": {
        "id": "GFUIJwlD8KiM"
      }
    },
    {
      "cell_type": "code",
      "source": [
        "indicators = [\"C1M_School closing\",\n",
        "\"C2M_Workplace closing\",\n",
        "\"C3M_Cancel public events\",\n",
        "\"C4M_Restrictions on gatherings\",\n",
        "\"C5M_Close public transport\",\n",
        "\"C6M_Stay at home requirements\",\n",
        "\"C7M_Restrictions on internal movement\",\n",
        "\"C8EV_International travel controls\",\n",
        "\"E1_Income support\",\n",
        "\"E2_Debt/contract relief\",\n",
        "\"H1_Public information campaigns\",\n",
        "\"H2_Testing policy\",\n",
        "\"H3_Contact tracing\",\n",
        "\"H6M_Facial Coverings\",\n",
        "\"H7_Vaccination policy\",\n",
        "\"H8M_Protection of elderly people\"]\n",
        "\n",
        "def clean_data(df):\n",
        "    \"\"\"\n",
        "    INPUT:\n",
        "        df: spark dataframe\n",
        "    OUTPUT:\n",
        "        cleaned data: spark dataframe\n",
        "\n",
        "    NOTE: output the given word with characters stripped.\n",
        "    \"\"\"\n",
        "    # YOUR CODE HERE\n",
        "\n",
        "\n",
        "def impute_data(df):\n",
        "    \"\"\"\n",
        "    INPUT:\n",
        "        df: spark dataframe\n",
        "    OUTPUT:\n",
        "        imputed data: spark dataframe\n",
        "\n",
        "    NOTE: output the dataframe with nan values replaced with the minimal value of the given indicator.\n",
        "    \"\"\"\n",
        "    for indicator in indicators:\n",
        "      df.groupBy(indicator).count().show()\n",
        "\n",
        "\n",
        "\n",
        "def group_and_aggregate_data(df):\n",
        "    \"\"\"\n",
        "    INPUT:\n",
        "        df: spark dataframe\n",
        "    OUTPUT:\n",
        "        groupe and aggregated data: spark dataframe\n",
        "\n",
        "    NOTE: output the dataframe with grouped (by month) and aggregated (based on the algorithm) data.\n",
        "    \"\"\"\n",
        "    # YOUR CODE HERE\n",
        "\n",
        "def compute_index_score(df):\n",
        "    \"\"\"\n",
        "    INPUT:\n",
        "        df: spark dataframe\n",
        "    OUTPUT:\n",
        "        list of index scores per region and period: list\n",
        "\n",
        "    NOTE: output a list of computed scores per region and period based on the algorithm.\n",
        "    \"\"\"\n",
        "    # YOUR CODE HERE\n",
        "\n",
        "# You may have additional functions"
      ],
      "metadata": {
        "id": "G4VuOGh78O4r"
      },
      "execution_count": 11,
      "outputs": []
    },
    {
      "cell_type": "code",
      "source": [
        "# Start new spark session\n",
        "spark.stop()\n",
        "\n",
        "# create the session\n",
        "conf = SparkConf().set(\"spark.ui.port\", \"4050\")\n",
        "\n",
        "# create the context\n",
        "sc = pyspark.SparkContext(conf=conf)\n",
        "spark = SparkSession.builder.getOrCreate()"
      ],
      "metadata": {
        "id": "hVsB0H5Eak3v"
      },
      "execution_count": 12,
      "outputs": []
    },
    {
      "cell_type": "code",
      "source": [
        "# Load Dataset\n",
        "OxCGRT = spark.read.option(\"header\", True).csv(\"OxCGRT_USA_latest.csv\")\n",
        "OxCGRT.show()\n",
        "\n",
        "# C1M = Indicator, C1M_Flag = Flag for C1M Indicator, etc...."
      ],
      "metadata": {
        "colab": {
          "base_uri": "https://localhost:8080/"
        },
        "id": "kpgBbtlwl3j2",
        "outputId": "810bb91f-2255-4d44-e989-686e7e96337a"
      },
      "execution_count": 13,
      "outputs": [
        {
          "output_type": "stream",
          "name": "stdout",
          "text": [
            "+-------------+-----------+----------+----------+------------+--------+------------------+--------+---------------------+--------+------------------------+--------+------------------------------+--------+--------------------------+--------+-----------------------------+--------+-------------------------------------+--------+----------------------------------+-----------------+-------+-----------------------+------------------+------------------------+-------------------------------+-------+-----------------+------------------+-------------------------------------+-------------------------+--------------------+--------+---------------------+-------+--------------------------------+--------+-----------+-----------------------------------+----------------------------------+-------------------------------------------------------------------------------+--------------------------------------------------------------------+--------------------------------------------------+-------------+---------------------------------------+-----------------------------------+--------------------------------------+----------------------------------+--------------+---------------+------------------+--------------------+-----------------------+----------------------------------+-------------------------------+------------------------------------------+------------------------------+-----------------------------------------+--------------------+-------------------------------+\n",
            "|  CountryName|CountryCode|RegionName|RegionCode|Jurisdiction|    Date|C1M_School closing|C1M_Flag|C2M_Workplace closing|C2M_Flag|C3M_Cancel public events|C3M_Flag|C4M_Restrictions on gatherings|C4M_Flag|C5M_Close public transport|C5M_Flag|C6M_Stay at home requirements|C6M_Flag|C7M_Restrictions on internal movement|C7M_Flag|C8EV_International travel controls|E1_Income support|E1_Flag|E2_Debt/contract relief|E3_Fiscal measures|E4_International support|H1_Public information campaigns|H1_Flag|H2_Testing policy|H3_Contact tracing|H4_Emergency investment in healthcare|H5_Investment in vaccines|H6M_Facial Coverings|H6M_Flag|H7_Vaccination policy|H7_Flag|H8M_Protection of elderly people|H8M_Flag|M1_Wildcard|V1_Vaccine Prioritisation (summary)|V2A_Vaccine Availability (summary)|V2B_Vaccine age eligibility/availability age floor (general population summary)|V2C_Vaccine age eligibility/availability age floor (at risk summary)|V2D_Medically/ clinically vulnerable (Non-elderly)|V2E_Education|V2F_Frontline workers  (non healthcare)|V2G_Frontline workers  (healthcare)|V3_Vaccine Financial Support (summary)|V4_Mandatory Vaccination (summary)|ConfirmedCases|ConfirmedDeaths|MajorityVaccinated|PopulationVaccinated|StringencyIndex_Average|StringencyIndex_Average_ForDisplay|GovernmentResponseIndex_Average|GovernmentResponseIndex_Average_ForDisplay|ContainmentHealthIndex_Average|ContainmentHealthIndex_Average_ForDisplay|EconomicSupportIndex|EconomicSupportIndex_ForDisplay|\n",
            "+-------------+-----------+----------+----------+------------+--------+------------------+--------+---------------------+--------+------------------------+--------+------------------------------+--------+--------------------------+--------+-----------------------------+--------+-------------------------------------+--------+----------------------------------+-----------------+-------+-----------------------+------------------+------------------------+-------------------------------+-------+-----------------+------------------+-------------------------------------+-------------------------+--------------------+--------+---------------------+-------+--------------------------------+--------+-----------+-----------------------------------+----------------------------------+-------------------------------------------------------------------------------+--------------------------------------------------------------------+--------------------------------------------------+-------------+---------------------------------------+-----------------------------------+--------------------------------------+----------------------------------+--------------+---------------+------------------+--------------------+-----------------------+----------------------------------+-------------------------------+------------------------------------------+------------------------------+-----------------------------------------+--------------------+-------------------------------+\n",
            "|United States|        USA|      NULL|      NULL|   NAT_TOTAL|20200101|              0.00|    NULL|                 0.00|    NULL|                    0.00|    NULL|                          0.00|    NULL|                      0.00|    NULL|                         0.00|    NULL|                                 0.00|    NULL|                              0.00|             0.00|   NULL|                   0.00|              0.00|                    0.00|                           0.00|   NULL|             0.00|              0.00|                                 0.00|                     0.00|                0.00|    NULL|                 0.00|   NULL|                            0.00|    NULL|       NULL|                                  0|                                 0|                                                                           NULL|                                                                NULL|                                              NULL|         NULL|                                   NULL|                               NULL|                                     0|                                 0|          NULL|           NULL|              NULL|                NULL|                   NULL|                              NULL|                           NULL|                                      NULL|                          NULL|                                     NULL|                NULL|                           NULL|\n",
            "|United States|        USA|      NULL|      NULL|   NAT_TOTAL|20200102|              0.00|    NULL|                 0.00|    NULL|                    0.00|    NULL|                          0.00|    NULL|                      0.00|    NULL|                         0.00|    NULL|                                 0.00|    NULL|                              0.00|             0.00|   NULL|                   0.00|              0.00|                    0.00|                           0.00|   NULL|             0.00|              0.00|                                 0.00|                     0.00|                0.00|    NULL|                 0.00|   NULL|                            0.00|    NULL|       NULL|                                  0|                                 0|                                                                           NULL|                                                                NULL|                                              NULL|         NULL|                                   NULL|                               NULL|                                     0|                                 0|          NULL|           NULL|              NULL|                NULL|                   NULL|                              NULL|                           NULL|                                      NULL|                          NULL|                                     NULL|                NULL|                           NULL|\n",
            "|United States|        USA|      NULL|      NULL|   NAT_TOTAL|20200103|              0.00|    NULL|                 0.00|    NULL|                    0.00|    NULL|                          0.00|    NULL|                      0.00|    NULL|                         0.00|    NULL|                                 0.00|    NULL|                              0.00|             0.00|   NULL|                   0.00|              0.00|                    0.00|                           0.00|   NULL|             0.00|              0.00|                                 0.00|                     0.00|                0.00|    NULL|                 0.00|   NULL|                            0.00|    NULL|       NULL|                                  0|                                 0|                                                                           NULL|                                                                NULL|                                              NULL|         NULL|                                   NULL|                               NULL|                                     0|                                 0|          NULL|           NULL|              NULL|                NULL|                   NULL|                              NULL|                           NULL|                                      NULL|                          NULL|                                     NULL|                NULL|                           NULL|\n",
            "|United States|        USA|      NULL|      NULL|   NAT_TOTAL|20200104|              0.00|    NULL|                 0.00|    NULL|                    0.00|    NULL|                          0.00|    NULL|                      0.00|    NULL|                         0.00|    NULL|                                 0.00|    NULL|                              0.00|             0.00|   NULL|                   0.00|              0.00|                    0.00|                           0.00|   NULL|             0.00|              0.00|                                 0.00|                     0.00|                0.00|    NULL|                 0.00|   NULL|                            0.00|    NULL|       NULL|                                  0|                                 0|                                                                           NULL|                                                                NULL|                                              NULL|         NULL|                                   NULL|                               NULL|                                     0|                                 0|          NULL|           NULL|              NULL|                NULL|                   NULL|                              NULL|                           NULL|                                      NULL|                          NULL|                                     NULL|                NULL|                           NULL|\n",
            "|United States|        USA|      NULL|      NULL|   NAT_TOTAL|20200105|              0.00|    NULL|                 0.00|    NULL|                    0.00|    NULL|                          0.00|    NULL|                      0.00|    NULL|                         0.00|    NULL|                                 0.00|    NULL|                              0.00|             0.00|   NULL|                   0.00|              0.00|                    0.00|                           0.00|   NULL|             0.00|              0.00|                                 0.00|                     0.00|                0.00|    NULL|                 0.00|   NULL|                            0.00|    NULL|       NULL|                                  0|                                 0|                                                                           NULL|                                                                NULL|                                              NULL|         NULL|                                   NULL|                               NULL|                                     0|                                 0|          NULL|           NULL|              NULL|                NULL|                   NULL|                              NULL|                           NULL|                                      NULL|                          NULL|                                     NULL|                NULL|                           NULL|\n",
            "|United States|        USA|      NULL|      NULL|   NAT_TOTAL|20200106|              0.00|    NULL|                 0.00|    NULL|                    0.00|    NULL|                          0.00|    NULL|                      0.00|    NULL|                         0.00|    NULL|                                 0.00|    NULL|                              0.00|             0.00|   NULL|                   0.00|              0.00|                    0.00|                           0.00|   NULL|             0.00|              0.00|                                 0.00|                     0.00|                0.00|    NULL|                 0.00|   NULL|                            0.00|    NULL|       NULL|                                  0|                                 0|                                                                           NULL|                                                                NULL|                                              NULL|         NULL|                                   NULL|                               NULL|                                     0|                                 0|          NULL|           NULL|              NULL|                NULL|                   NULL|                              NULL|                           NULL|                                      NULL|                          NULL|                                     NULL|                NULL|                           NULL|\n",
            "|United States|        USA|      NULL|      NULL|   NAT_TOTAL|20200107|              0.00|    NULL|                 0.00|    NULL|                    0.00|    NULL|                          0.00|    NULL|                      0.00|    NULL|                         0.00|    NULL|                                 0.00|    NULL|                              0.00|             0.00|   NULL|                   0.00|              0.00|                    0.00|                           0.00|   NULL|             0.00|              0.00|                                 0.00|                     0.00|                0.00|    NULL|                 0.00|   NULL|                            0.00|    NULL|       NULL|                                  0|                                 0|                                                                           NULL|                                                                NULL|                                              NULL|         NULL|                                   NULL|                               NULL|                                     0|                                 0|          NULL|           NULL|              NULL|                NULL|                   NULL|                              NULL|                           NULL|                                      NULL|                          NULL|                                     NULL|                NULL|                           NULL|\n",
            "|United States|        USA|      NULL|      NULL|   NAT_TOTAL|20200108|              0.00|    NULL|                 0.00|    NULL|                    0.00|    NULL|                          0.00|    NULL|                      0.00|    NULL|                         0.00|    NULL|                                 0.00|    NULL|                              0.00|             0.00|   NULL|                   0.00|              0.00|                    0.00|                           0.00|   NULL|             0.00|              0.00|                                 0.00|                     0.00|                0.00|    NULL|                 0.00|   NULL|                            0.00|    NULL|       NULL|                                  0|                                 0|                                                                           NULL|                                                                NULL|                                              NULL|         NULL|                                   NULL|                               NULL|                                     0|                                 0|          NULL|           NULL|              NULL|                NULL|                   NULL|                              NULL|                           NULL|                                      NULL|                          NULL|                                     NULL|                NULL|                           NULL|\n",
            "|United States|        USA|      NULL|      NULL|   NAT_TOTAL|20200109|              0.00|    NULL|                 0.00|    NULL|                    0.00|    NULL|                          0.00|    NULL|                      0.00|    NULL|                         0.00|    NULL|                                 0.00|    NULL|                              0.00|             0.00|   NULL|                   0.00|              0.00|                    0.00|                           0.00|   NULL|             0.00|              0.00|                                 0.00|                     0.00|                0.00|    NULL|                 0.00|   NULL|                            0.00|    NULL|       NULL|                                  0|                                 0|                                                                           NULL|                                                                NULL|                                              NULL|         NULL|                                   NULL|                               NULL|                                     0|                                 0|          NULL|           NULL|              NULL|                NULL|                   NULL|                              NULL|                           NULL|                                      NULL|                          NULL|                                     NULL|                NULL|                           NULL|\n",
            "|United States|        USA|      NULL|      NULL|   NAT_TOTAL|20200110|              0.00|    NULL|                 0.00|    NULL|                    0.00|    NULL|                          0.00|    NULL|                      0.00|    NULL|                         0.00|    NULL|                                 0.00|    NULL|                              0.00|             0.00|   NULL|                   0.00|              0.00|                    0.00|                           0.00|   NULL|             0.00|              0.00|                                 0.00|                     0.00|                0.00|    NULL|                 0.00|   NULL|                            0.00|    NULL|       NULL|                                  0|                                 0|                                                                           NULL|                                                                NULL|                                              NULL|         NULL|                                   NULL|                               NULL|                                     0|                                 0|          NULL|           NULL|              NULL|                NULL|                   NULL|                              NULL|                           NULL|                                      NULL|                          NULL|                                     NULL|                NULL|                           NULL|\n",
            "|United States|        USA|      NULL|      NULL|   NAT_TOTAL|20200111|              0.00|    NULL|                 0.00|    NULL|                    0.00|    NULL|                          0.00|    NULL|                      0.00|    NULL|                         0.00|    NULL|                                 0.00|    NULL|                              0.00|             0.00|   NULL|                   0.00|              0.00|                    0.00|                           0.00|   NULL|             0.00|              0.00|                                 0.00|                     0.00|                0.00|    NULL|                 0.00|   NULL|                            0.00|    NULL|       NULL|                                  0|                                 0|                                                                           NULL|                                                                NULL|                                              NULL|         NULL|                                   NULL|                               NULL|                                     0|                                 0|          NULL|           NULL|              NULL|                NULL|                   NULL|                              NULL|                           NULL|                                      NULL|                          NULL|                                     NULL|                NULL|                           NULL|\n",
            "|United States|        USA|      NULL|      NULL|   NAT_TOTAL|20200112|              0.00|    NULL|                 0.00|    NULL|                    0.00|    NULL|                          0.00|    NULL|                      0.00|    NULL|                         0.00|    NULL|                                 0.00|    NULL|                              0.00|             0.00|   NULL|                   0.00|              0.00|                    0.00|                           0.00|   NULL|             0.00|              0.00|                                 0.00|                     0.00|                0.00|    NULL|                 0.00|   NULL|                            0.00|    NULL|       NULL|                                  0|                                 0|                                                                           NULL|                                                                NULL|                                              NULL|         NULL|                                   NULL|                               NULL|                                     0|                                 0|          NULL|           NULL|              NULL|                NULL|                   NULL|                              NULL|                           NULL|                                      NULL|                          NULL|                                     NULL|                NULL|                           NULL|\n",
            "|United States|        USA|      NULL|      NULL|   NAT_TOTAL|20200113|              0.00|    NULL|                 0.00|    NULL|                    0.00|    NULL|                          0.00|    NULL|                      0.00|    NULL|                         0.00|    NULL|                                 0.00|    NULL|                              0.00|             0.00|   NULL|                   0.00|              0.00|                    0.00|                           0.00|   NULL|             0.00|              0.00|                                 0.00|                     0.00|                0.00|    NULL|                 0.00|   NULL|                            0.00|    NULL|       NULL|                                  0|                                 0|                                                                           NULL|                                                                NULL|                                              NULL|         NULL|                                   NULL|                               NULL|                                     0|                                 0|          NULL|           NULL|              NULL|                NULL|                   NULL|                              NULL|                           NULL|                                      NULL|                          NULL|                                     NULL|                NULL|                           NULL|\n",
            "|United States|        USA|      NULL|      NULL|   NAT_TOTAL|20200114|              0.00|    NULL|                 0.00|    NULL|                    0.00|    NULL|                          0.00|    NULL|                      0.00|    NULL|                         0.00|    NULL|                                 0.00|    NULL|                              0.00|             0.00|   NULL|                   0.00|              0.00|                    0.00|                           0.00|   NULL|             0.00|              0.00|                                 0.00|                     0.00|                0.00|    NULL|                 0.00|   NULL|                            0.00|    NULL|       NULL|                                  0|                                 0|                                                                           NULL|                                                                NULL|                                              NULL|         NULL|                                   NULL|                               NULL|                                     0|                                 0|          NULL|           NULL|              NULL|                NULL|                   NULL|                              NULL|                           NULL|                                      NULL|                          NULL|                                     NULL|                NULL|                           NULL|\n",
            "|United States|        USA|      NULL|      NULL|   NAT_TOTAL|20200115|              0.00|    NULL|                 0.00|    NULL|                    0.00|    NULL|                          0.00|    NULL|                      0.00|    NULL|                         0.00|    NULL|                                 0.00|    NULL|                              0.00|             0.00|   NULL|                   0.00|              0.00|                    0.00|                           0.00|   NULL|             0.00|              0.00|                                 0.00|                     0.00|                0.00|    NULL|                 0.00|   NULL|                            0.00|    NULL|       NULL|                                  0|                                 0|                                                                           NULL|                                                                NULL|                                              NULL|         NULL|                                   NULL|                               NULL|                                     0|                                 0|          NULL|           NULL|              NULL|                NULL|                   NULL|                              NULL|                           NULL|                                      NULL|                          NULL|                                     NULL|                NULL|                           NULL|\n",
            "|United States|        USA|      NULL|      NULL|   NAT_TOTAL|20200116|              0.00|    NULL|                 0.00|    NULL|                    0.00|    NULL|                          0.00|    NULL|                      0.00|    NULL|                         0.00|    NULL|                                 0.00|    NULL|                              0.00|             0.00|   NULL|                   0.00|              0.00|                    0.00|                           0.00|   NULL|             0.00|              0.00|                                 0.00|                     0.00|                0.00|    NULL|                 0.00|   NULL|                            0.00|    NULL|       NULL|                                  0|                                 0|                                                                           NULL|                                                                NULL|                                              NULL|         NULL|                                   NULL|                               NULL|                                     0|                                 0|          NULL|           NULL|              NULL|                NULL|                   NULL|                              NULL|                           NULL|                                      NULL|                          NULL|                                     NULL|                NULL|                           NULL|\n",
            "|United States|        USA|      NULL|      NULL|   NAT_TOTAL|20200117|              0.00|    NULL|                 0.00|    NULL|                    0.00|    NULL|                          0.00|    NULL|                      0.00|    NULL|                         0.00|    NULL|                                 0.00|    NULL|                              0.00|             0.00|   NULL|                   0.00|              0.00|                    0.00|                           0.00|   NULL|             0.00|              0.00|                                 0.00|                     0.00|                0.00|    NULL|                 0.00|   NULL|                            0.00|    NULL|       NULL|                                  0|                                 0|                                                                           NULL|                                                                NULL|                                              NULL|         NULL|                                   NULL|                               NULL|                                     0|                                 0|          NULL|           NULL|              NULL|                NULL|                   NULL|                              NULL|                           NULL|                                      NULL|                          NULL|                                     NULL|                NULL|                           NULL|\n",
            "|United States|        USA|      NULL|      NULL|   NAT_TOTAL|20200118|              0.00|    NULL|                 0.00|    NULL|                    0.00|    NULL|                          0.00|    NULL|                      0.00|    NULL|                         0.00|    NULL|                                 0.00|    NULL|                              0.00|             0.00|   NULL|                   0.00|              0.00|                    0.00|                           0.00|   NULL|             0.00|              0.00|                                 0.00|                     0.00|                0.00|    NULL|                 0.00|   NULL|                            0.00|    NULL|       NULL|                                  0|                                 0|                                                                           NULL|                                                                NULL|                                              NULL|         NULL|                                   NULL|                               NULL|                                     0|                                 0|          NULL|           NULL|              NULL|                NULL|                   NULL|                              NULL|                           NULL|                                      NULL|                          NULL|                                     NULL|                NULL|                           NULL|\n",
            "|United States|        USA|      NULL|      NULL|   NAT_TOTAL|20200119|              0.00|    NULL|                 0.00|    NULL|                    0.00|    NULL|                          0.00|    NULL|                      0.00|    NULL|                         0.00|    NULL|                                 0.00|    NULL|                              0.00|             0.00|   NULL|                   0.00|              0.00|                    0.00|                           0.00|   NULL|             0.00|              0.00|                                 0.00|                     0.00|                0.00|    NULL|                 0.00|   NULL|                            0.00|    NULL|       NULL|                                  0|                                 0|                                                                           NULL|                                                                NULL|                                              NULL|         NULL|                                   NULL|                               NULL|                                     0|                                 0|          NULL|           NULL|              NULL|                NULL|                   NULL|                              NULL|                           NULL|                                      NULL|                          NULL|                                     NULL|                NULL|                           NULL|\n",
            "|United States|        USA|      NULL|      NULL|   NAT_TOTAL|20200120|              0.00|    NULL|                 0.00|    NULL|                    0.00|    NULL|                          0.00|    NULL|                      0.00|    NULL|                         0.00|    NULL|                                 0.00|    NULL|                              0.00|             0.00|   NULL|                   0.00|              0.00|                    0.00|                           0.00|   NULL|             0.00|              0.00|                                 0.00|                     0.00|                0.00|    NULL|                 0.00|   NULL|                            0.00|    NULL|       NULL|                                  0|                                 0|                                                                           NULL|                                                                NULL|                                              NULL|         NULL|                                   NULL|                               NULL|                                     0|                                 0|          NULL|           NULL|              NULL|                NULL|                   NULL|                              NULL|                           NULL|                                      NULL|                          NULL|                                     NULL|                NULL|                           NULL|\n",
            "+-------------+-----------+----------+----------+------------+--------+------------------+--------+---------------------+--------+------------------------+--------+------------------------------+--------+--------------------------+--------+-----------------------------+--------+-------------------------------------+--------+----------------------------------+-----------------+-------+-----------------------+------------------+------------------------+-------------------------------+-------+-----------------+------------------+-------------------------------------+-------------------------+--------------------+--------+---------------------+-------+--------------------------------+--------+-----------+-----------------------------------+----------------------------------+-------------------------------------------------------------------------------+--------------------------------------------------------------------+--------------------------------------------------+-------------+---------------------------------------+-----------------------------------+--------------------------------------+----------------------------------+--------------+---------------+------------------+--------------------+-----------------------+----------------------------------+-------------------------------+------------------------------------------+------------------------------+-----------------------------------------+--------------------+-------------------------------+\n",
            "only showing top 20 rows\n",
            "\n"
          ]
        }
      ]
    },
    {
      "cell_type": "code",
      "source": [
        "OxCGRT.printSchema()\n",
        "# C1M_School closing = v_jt\n",
        "# Max of all C1M_school = Nj\n",
        "# f_jt = recorded binary flag for indicator j in period t\n",
        "# v_jt? t = period t, j = indicator j --> v_jt = recorded policy value on ordinal scale"
      ],
      "metadata": {
        "colab": {
          "base_uri": "https://localhost:8080/"
        },
        "id": "dd60lh6Cm9Fn",
        "outputId": "3d407a3c-32d5-40a6-b6de-3a07ff226450",
        "collapsed": true
      },
      "execution_count": 14,
      "outputs": [
        {
          "output_type": "stream",
          "name": "stdout",
          "text": [
            "root\n",
            " |-- CountryName: string (nullable = true)\n",
            " |-- CountryCode: string (nullable = true)\n",
            " |-- RegionName: string (nullable = true)\n",
            " |-- RegionCode: string (nullable = true)\n",
            " |-- Jurisdiction: string (nullable = true)\n",
            " |-- Date: string (nullable = true)\n",
            " |-- C1M_School closing: string (nullable = true)\n",
            " |-- C1M_Flag: string (nullable = true)\n",
            " |-- C2M_Workplace closing: string (nullable = true)\n",
            " |-- C2M_Flag: string (nullable = true)\n",
            " |-- C3M_Cancel public events: string (nullable = true)\n",
            " |-- C3M_Flag: string (nullable = true)\n",
            " |-- C4M_Restrictions on gatherings: string (nullable = true)\n",
            " |-- C4M_Flag: string (nullable = true)\n",
            " |-- C5M_Close public transport: string (nullable = true)\n",
            " |-- C5M_Flag: string (nullable = true)\n",
            " |-- C6M_Stay at home requirements: string (nullable = true)\n",
            " |-- C6M_Flag: string (nullable = true)\n",
            " |-- C7M_Restrictions on internal movement: string (nullable = true)\n",
            " |-- C7M_Flag: string (nullable = true)\n",
            " |-- C8EV_International travel controls: string (nullable = true)\n",
            " |-- E1_Income support: string (nullable = true)\n",
            " |-- E1_Flag: string (nullable = true)\n",
            " |-- E2_Debt/contract relief: string (nullable = true)\n",
            " |-- E3_Fiscal measures: string (nullable = true)\n",
            " |-- E4_International support: string (nullable = true)\n",
            " |-- H1_Public information campaigns: string (nullable = true)\n",
            " |-- H1_Flag: string (nullable = true)\n",
            " |-- H2_Testing policy: string (nullable = true)\n",
            " |-- H3_Contact tracing: string (nullable = true)\n",
            " |-- H4_Emergency investment in healthcare: string (nullable = true)\n",
            " |-- H5_Investment in vaccines: string (nullable = true)\n",
            " |-- H6M_Facial Coverings: string (nullable = true)\n",
            " |-- H6M_Flag: string (nullable = true)\n",
            " |-- H7_Vaccination policy: string (nullable = true)\n",
            " |-- H7_Flag: string (nullable = true)\n",
            " |-- H8M_Protection of elderly people: string (nullable = true)\n",
            " |-- H8M_Flag: string (nullable = true)\n",
            " |-- M1_Wildcard: string (nullable = true)\n",
            " |-- V1_Vaccine Prioritisation (summary): string (nullable = true)\n",
            " |-- V2A_Vaccine Availability (summary): string (nullable = true)\n",
            " |-- V2B_Vaccine age eligibility/availability age floor (general population summary): string (nullable = true)\n",
            " |-- V2C_Vaccine age eligibility/availability age floor (at risk summary): string (nullable = true)\n",
            " |-- V2D_Medically/ clinically vulnerable (Non-elderly): string (nullable = true)\n",
            " |-- V2E_Education: string (nullable = true)\n",
            " |-- V2F_Frontline workers  (non healthcare): string (nullable = true)\n",
            " |-- V2G_Frontline workers  (healthcare): string (nullable = true)\n",
            " |-- V3_Vaccine Financial Support (summary): string (nullable = true)\n",
            " |-- V4_Mandatory Vaccination (summary): string (nullable = true)\n",
            " |-- ConfirmedCases: string (nullable = true)\n",
            " |-- ConfirmedDeaths: string (nullable = true)\n",
            " |-- MajorityVaccinated: string (nullable = true)\n",
            " |-- PopulationVaccinated: string (nullable = true)\n",
            " |-- StringencyIndex_Average: string (nullable = true)\n",
            " |-- StringencyIndex_Average_ForDisplay: string (nullable = true)\n",
            " |-- GovernmentResponseIndex_Average: string (nullable = true)\n",
            " |-- GovernmentResponseIndex_Average_ForDisplay: string (nullable = true)\n",
            " |-- ContainmentHealthIndex_Average: string (nullable = true)\n",
            " |-- ContainmentHealthIndex_Average_ForDisplay: string (nullable = true)\n",
            " |-- EconomicSupportIndex: string (nullable = true)\n",
            " |-- EconomicSupportIndex_ForDisplay: string (nullable = true)\n",
            "\n"
          ]
        }
      ]
    },
    {
      "cell_type": "code",
      "source": [
        "# Only need Month + Year for Date column + filter out dates not in 2020 or 2021\n",
        "OxCGRT = OxCGRT.withColumn(\"Date\", substring(col(\"Date\"), 1, 6))\n",
        "OxCGRT = OxCGRT.filter((col(\"Date\").startswith('2020')) | col(\"Date\").startswith('2021'))"
      ],
      "metadata": {
        "collapsed": true,
        "id": "98NNsUDanoq5"
      },
      "execution_count": 15,
      "outputs": []
    },
    {
      "cell_type": "code",
      "source": [
        "# Check for nan values in indicator columns\n",
        "OxCGRT.select([count(when(isnan(c), c)).alias(c) for c in indicators]).show()"
      ],
      "metadata": {
        "colab": {
          "base_uri": "https://localhost:8080/"
        },
        "collapsed": true,
        "id": "ZUYg6utErUsE",
        "outputId": "f6ede879-28cd-4143-fe0a-7e6cd66bc971"
      },
      "execution_count": 16,
      "outputs": [
        {
          "output_type": "stream",
          "name": "stdout",
          "text": [
            "+------------------+---------------------+------------------------+------------------------------+--------------------------+-----------------------------+-------------------------------------+----------------------------------+-----------------+-----------------------+-------------------------------+-----------------+------------------+--------------------+---------------------+--------------------------------+\n",
            "|C1M_School closing|C2M_Workplace closing|C3M_Cancel public events|C4M_Restrictions on gatherings|C5M_Close public transport|C6M_Stay at home requirements|C7M_Restrictions on internal movement|C8EV_International travel controls|E1_Income support|E2_Debt/contract relief|H1_Public information campaigns|H2_Testing policy|H3_Contact tracing|H6M_Facial Coverings|H7_Vaccination policy|H8M_Protection of elderly people|\n",
            "+------------------+---------------------+------------------------+------------------------------+--------------------------+-----------------------------+-------------------------------------+----------------------------------+-----------------+-----------------------+-------------------------------+-----------------+------------------+--------------------+---------------------+--------------------------------+\n",
            "|                 0|                    0|                       0|                             0|                         0|                            0|                                    0|                                 0|                0|                      0|                              0|                0|                 0|                   0|                    0|                               0|\n",
            "+------------------+---------------------+------------------------+------------------------------+--------------------------+-----------------------------+-------------------------------------+----------------------------------+-----------------+-----------------------+-------------------------------+-----------------+------------------+--------------------+---------------------+--------------------------------+\n",
            "\n"
          ]
        }
      ]
    },
    {
      "cell_type": "code",
      "source": [
        "# Filter out Null values for RegionName\n",
        "OxCGRT = OxCGRT.where(col(\"RegionName\").isNotNull())\n",
        "OxCGRT.show()"
      ],
      "metadata": {
        "id": "KQYjl9zSvLNP",
        "colab": {
          "base_uri": "https://localhost:8080/"
        },
        "outputId": "0be83cea-a06c-4a0c-cd93-1ddefdfd7377"
      },
      "execution_count": 17,
      "outputs": [
        {
          "output_type": "stream",
          "name": "stdout",
          "text": [
            "+-------------+-----------+----------+----------+------------+------+------------------+--------+---------------------+--------+------------------------+--------+------------------------------+--------+--------------------------+--------+-----------------------------+--------+-------------------------------------+--------+----------------------------------+-----------------+-------+-----------------------+------------------+------------------------+-------------------------------+-------+-----------------+------------------+-------------------------------------+-------------------------+--------------------+--------+---------------------+-------+--------------------------------+--------+-----------+-----------------------------------+----------------------------------+-------------------------------------------------------------------------------+--------------------------------------------------------------------+--------------------------------------------------+-------------+---------------------------------------+-----------------------------------+--------------------------------------+----------------------------------+--------------+---------------+------------------+--------------------+-----------------------+----------------------------------+-------------------------------+------------------------------------------+------------------------------+-----------------------------------------+--------------------+-------------------------------+\n",
            "|  CountryName|CountryCode|RegionName|RegionCode|Jurisdiction|  Date|C1M_School closing|C1M_Flag|C2M_Workplace closing|C2M_Flag|C3M_Cancel public events|C3M_Flag|C4M_Restrictions on gatherings|C4M_Flag|C5M_Close public transport|C5M_Flag|C6M_Stay at home requirements|C6M_Flag|C7M_Restrictions on internal movement|C7M_Flag|C8EV_International travel controls|E1_Income support|E1_Flag|E2_Debt/contract relief|E3_Fiscal measures|E4_International support|H1_Public information campaigns|H1_Flag|H2_Testing policy|H3_Contact tracing|H4_Emergency investment in healthcare|H5_Investment in vaccines|H6M_Facial Coverings|H6M_Flag|H7_Vaccination policy|H7_Flag|H8M_Protection of elderly people|H8M_Flag|M1_Wildcard|V1_Vaccine Prioritisation (summary)|V2A_Vaccine Availability (summary)|V2B_Vaccine age eligibility/availability age floor (general population summary)|V2C_Vaccine age eligibility/availability age floor (at risk summary)|V2D_Medically/ clinically vulnerable (Non-elderly)|V2E_Education|V2F_Frontline workers  (non healthcare)|V2G_Frontline workers  (healthcare)|V3_Vaccine Financial Support (summary)|V4_Mandatory Vaccination (summary)|ConfirmedCases|ConfirmedDeaths|MajorityVaccinated|PopulationVaccinated|StringencyIndex_Average|StringencyIndex_Average_ForDisplay|GovernmentResponseIndex_Average|GovernmentResponseIndex_Average_ForDisplay|ContainmentHealthIndex_Average|ContainmentHealthIndex_Average_ForDisplay|EconomicSupportIndex|EconomicSupportIndex_ForDisplay|\n",
            "+-------------+-----------+----------+----------+------------+------+------------------+--------+---------------------+--------+------------------------+--------+------------------------------+--------+--------------------------+--------+-----------------------------+--------+-------------------------------------+--------+----------------------------------+-----------------+-------+-----------------------+------------------+------------------------+-------------------------------+-------+-----------------+------------------+-------------------------------------+-------------------------+--------------------+--------+---------------------+-------+--------------------------------+--------+-----------+-----------------------------------+----------------------------------+-------------------------------------------------------------------------------+--------------------------------------------------------------------+--------------------------------------------------+-------------+---------------------------------------+-----------------------------------+--------------------------------------+----------------------------------+--------------+---------------+------------------+--------------------+-----------------------+----------------------------------+-------------------------------+------------------------------------------+------------------------------+-----------------------------------------+--------------------+-------------------------------+\n",
            "|United States|        USA|    Alaska|     US_AK| STATE_TOTAL|202001|              0.00|    NULL|                 0.00|    NULL|                    0.00|    NULL|                          0.00|    NULL|                      0.00|    NULL|                         0.00|    NULL|                                 0.00|    NULL|                              0.00|             0.00|   NULL|                   0.00|              0.00|                    0.00|                           0.00|   NULL|             0.00|              0.00|                                 0.00|                     0.00|                0.00|    NULL|                 0.00|   NULL|                            0.00|    NULL|       NULL|                                  0|                                 0|                                                                           NULL|                                                                NULL|                                              NULL|         NULL|                                   NULL|                               NULL|                                     1|                                 0|          NULL|           NULL|              NULL|                NULL|                   NULL|                              NULL|                           NULL|                                      NULL|                          NULL|                                     NULL|                NULL|                           NULL|\n",
            "|United States|        USA|    Alaska|     US_AK| STATE_TOTAL|202001|              0.00|    NULL|                 0.00|    NULL|                    0.00|    NULL|                          0.00|    NULL|                      0.00|    NULL|                         0.00|    NULL|                                 0.00|    NULL|                              0.00|             0.00|   NULL|                   0.00|              0.00|                    0.00|                           0.00|   NULL|             0.00|              0.00|                                 0.00|                     0.00|                0.00|    NULL|                 0.00|   NULL|                            0.00|    NULL|       NULL|                                  0|                                 0|                                                                           NULL|                                                                NULL|                                              NULL|         NULL|                                   NULL|                               NULL|                                     0|                                 0|          NULL|           NULL|              NULL|                NULL|                   NULL|                              NULL|                           NULL|                                      NULL|                          NULL|                                     NULL|                NULL|                           NULL|\n",
            "|United States|        USA|    Alaska|     US_AK| STATE_TOTAL|202001|              0.00|    NULL|                 0.00|    NULL|                    0.00|    NULL|                          0.00|    NULL|                      0.00|    NULL|                         0.00|    NULL|                                 0.00|    NULL|                              0.00|             0.00|   NULL|                   0.00|              0.00|                    0.00|                           0.00|   NULL|             0.00|              0.00|                                 0.00|                     0.00|                0.00|    NULL|                 0.00|   NULL|                            0.00|    NULL|       NULL|                                  0|                                 0|                                                                           NULL|                                                                NULL|                                              NULL|         NULL|                                   NULL|                               NULL|                                     0|                                 0|          NULL|           NULL|              NULL|                NULL|                   NULL|                              NULL|                           NULL|                                      NULL|                          NULL|                                     NULL|                NULL|                           NULL|\n",
            "|United States|        USA|    Alaska|     US_AK| STATE_TOTAL|202001|              0.00|    NULL|                 0.00|    NULL|                    0.00|    NULL|                          0.00|    NULL|                      0.00|    NULL|                         0.00|    NULL|                                 0.00|    NULL|                              0.00|             0.00|   NULL|                   0.00|              0.00|                    0.00|                           0.00|   NULL|             0.00|              0.00|                                 0.00|                     0.00|                0.00|    NULL|                 0.00|   NULL|                            0.00|    NULL|       NULL|                                  0|                                 0|                                                                           NULL|                                                                NULL|                                              NULL|         NULL|                                   NULL|                               NULL|                                     0|                                 0|          NULL|           NULL|              NULL|                NULL|                   NULL|                              NULL|                           NULL|                                      NULL|                          NULL|                                     NULL|                NULL|                           NULL|\n",
            "|United States|        USA|    Alaska|     US_AK| STATE_TOTAL|202001|              0.00|    NULL|                 0.00|    NULL|                    0.00|    NULL|                          0.00|    NULL|                      0.00|    NULL|                         0.00|    NULL|                                 0.00|    NULL|                              0.00|             0.00|   NULL|                   0.00|              0.00|                    0.00|                           0.00|   NULL|             0.00|              0.00|                                 0.00|                     0.00|                0.00|    NULL|                 0.00|   NULL|                            0.00|    NULL|       NULL|                                  0|                                 0|                                                                           NULL|                                                                NULL|                                              NULL|         NULL|                                   NULL|                               NULL|                                     0|                                 0|          NULL|           NULL|              NULL|                NULL|                   NULL|                              NULL|                           NULL|                                      NULL|                          NULL|                                     NULL|                NULL|                           NULL|\n",
            "|United States|        USA|    Alaska|     US_AK| STATE_TOTAL|202001|              0.00|    NULL|                 0.00|    NULL|                    0.00|    NULL|                          0.00|    NULL|                      0.00|    NULL|                         0.00|    NULL|                                 0.00|    NULL|                              0.00|             0.00|   NULL|                   0.00|              0.00|                    0.00|                           0.00|   NULL|             0.00|              0.00|                                 0.00|                     0.00|                0.00|    NULL|                 0.00|   NULL|                            0.00|    NULL|       NULL|                                  0|                                 0|                                                                           NULL|                                                                NULL|                                              NULL|         NULL|                                   NULL|                               NULL|                                     0|                                 0|          NULL|           NULL|              NULL|                NULL|                   NULL|                              NULL|                           NULL|                                      NULL|                          NULL|                                     NULL|                NULL|                           NULL|\n",
            "|United States|        USA|    Alaska|     US_AK| STATE_TOTAL|202001|              0.00|    NULL|                 0.00|    NULL|                    0.00|    NULL|                          0.00|    NULL|                      0.00|    NULL|                         0.00|    NULL|                                 0.00|    NULL|                              0.00|             0.00|   NULL|                   0.00|              0.00|                    0.00|                           0.00|   NULL|             0.00|              0.00|                                 0.00|                     0.00|                0.00|    NULL|                 0.00|   NULL|                            0.00|    NULL|       NULL|                                  0|                                 0|                                                                           NULL|                                                                NULL|                                              NULL|         NULL|                                   NULL|                               NULL|                                     0|                                 0|          NULL|           NULL|              NULL|                NULL|                   NULL|                              NULL|                           NULL|                                      NULL|                          NULL|                                     NULL|                NULL|                           NULL|\n",
            "|United States|        USA|    Alaska|     US_AK| STATE_TOTAL|202001|              0.00|    NULL|                 0.00|    NULL|                    0.00|    NULL|                          0.00|    NULL|                      0.00|    NULL|                         0.00|    NULL|                                 0.00|    NULL|                              0.00|             0.00|   NULL|                   0.00|              0.00|                    0.00|                           1.00|      1|             0.00|              0.00|                                 0.00|                     0.00|                0.00|    NULL|                 0.00|   NULL|                            0.00|    NULL|       NULL|                                  0|                                 0|                                                                           NULL|                                                                NULL|                                              NULL|         NULL|                                   NULL|                               NULL|                                     0|                                 0|          NULL|           NULL|              NULL|                NULL|                   NULL|                              NULL|                           NULL|                                      NULL|                          NULL|                                     NULL|                NULL|                           NULL|\n",
            "|United States|        USA|    Alaska|     US_AK| STATE_TOTAL|202001|              0.00|    NULL|                 0.00|    NULL|                    0.00|    NULL|                          0.00|    NULL|                      0.00|    NULL|                         0.00|    NULL|                                 0.00|    NULL|                              0.00|             0.00|   NULL|                   0.00|              0.00|                    0.00|                           1.00|      1|             0.00|              0.00|                                 0.00|                     0.00|                0.00|    NULL|                 0.00|   NULL|                            0.00|    NULL|       NULL|                                  0|                                 0|                                                                           NULL|                                                                NULL|                                              NULL|         NULL|                                   NULL|                               NULL|                                     0|                                 0|          NULL|           NULL|              NULL|                NULL|                   NULL|                              NULL|                           NULL|                                      NULL|                          NULL|                                     NULL|                NULL|                           NULL|\n",
            "|United States|        USA|    Alaska|     US_AK| STATE_TOTAL|202001|              0.00|    NULL|                 0.00|    NULL|                    0.00|    NULL|                          0.00|    NULL|                      0.00|    NULL|                         0.00|    NULL|                                 0.00|    NULL|                              0.00|             0.00|   NULL|                   0.00|              0.00|                    0.00|                           1.00|      1|             0.00|              0.00|                                 0.00|                     0.00|                0.00|    NULL|                 0.00|   NULL|                            0.00|    NULL|       NULL|                                  0|                                 0|                                                                           NULL|                                                                NULL|                                              NULL|         NULL|                                   NULL|                               NULL|                                     0|                                 0|          NULL|           NULL|              NULL|                NULL|                   NULL|                              NULL|                           NULL|                                      NULL|                          NULL|                                     NULL|                NULL|                           NULL|\n",
            "|United States|        USA|    Alaska|     US_AK| STATE_TOTAL|202001|              0.00|    NULL|                 0.00|    NULL|                    0.00|    NULL|                          0.00|    NULL|                      0.00|    NULL|                         0.00|    NULL|                                 0.00|    NULL|                              0.00|             0.00|   NULL|                   0.00|              0.00|                    0.00|                           1.00|      1|             0.00|              0.00|                                 0.00|                     0.00|                0.00|    NULL|                 0.00|   NULL|                            0.00|    NULL|       NULL|                                  0|                                 0|                                                                           NULL|                                                                NULL|                                              NULL|         NULL|                                   NULL|                               NULL|                                     0|                                 0|          NULL|           NULL|              NULL|                NULL|                   NULL|                              NULL|                           NULL|                                      NULL|                          NULL|                                     NULL|                NULL|                           NULL|\n",
            "|United States|        USA|    Alaska|     US_AK| STATE_TOTAL|202001|              0.00|    NULL|                 0.00|    NULL|                    0.00|    NULL|                          0.00|    NULL|                      0.00|    NULL|                         0.00|    NULL|                                 0.00|    NULL|                              0.00|             0.00|   NULL|                   0.00|              0.00|                    0.00|                           1.00|      1|             0.00|              0.00|                                 0.00|                     0.00|                0.00|    NULL|                 0.00|   NULL|                            0.00|    NULL|       NULL|                                  0|                                 0|                                                                           NULL|                                                                NULL|                                              NULL|         NULL|                                   NULL|                               NULL|                                     0|                                 0|          NULL|           NULL|              NULL|                NULL|                   NULL|                              NULL|                           NULL|                                      NULL|                          NULL|                                     NULL|                NULL|                           NULL|\n",
            "|United States|        USA|    Alaska|     US_AK| STATE_TOTAL|202001|              0.00|    NULL|                 0.00|    NULL|                    0.00|    NULL|                          0.00|    NULL|                      0.00|    NULL|                         0.00|    NULL|                                 0.00|    NULL|                              0.00|             0.00|   NULL|                   0.00|              0.00|                    0.00|                           1.00|      1|             0.00|              0.00|                                 0.00|                     0.00|                0.00|    NULL|                 0.00|   NULL|                            0.00|    NULL|       NULL|                                  0|                                 0|                                                                           NULL|                                                                NULL|                                              NULL|         NULL|                                   NULL|                               NULL|                                     0|                                 0|          NULL|           NULL|              NULL|                NULL|                   NULL|                              NULL|                           NULL|                                      NULL|                          NULL|                                     NULL|                NULL|                           NULL|\n",
            "|United States|        USA|    Alaska|     US_AK| STATE_TOTAL|202001|              0.00|    NULL|                 0.00|    NULL|                    0.00|    NULL|                          0.00|    NULL|                      0.00|    NULL|                         0.00|    NULL|                                 0.00|    NULL|                              0.00|             0.00|   NULL|                   0.00|              0.00|                    0.00|                           1.00|      1|             0.00|              0.00|                                 0.00|                     0.00|                0.00|    NULL|                 0.00|   NULL|                            0.00|    NULL|       NULL|                                  0|                                 0|                                                                           NULL|                                                                NULL|                                              NULL|         NULL|                                   NULL|                               NULL|                                     0|                                 0|          NULL|           NULL|              NULL|                NULL|                   NULL|                              NULL|                           NULL|                                      NULL|                          NULL|                                     NULL|                NULL|                           NULL|\n",
            "|United States|        USA|    Alaska|     US_AK| STATE_TOTAL|202001|              0.00|    NULL|                 0.00|    NULL|                    0.00|    NULL|                          0.00|    NULL|                      0.00|    NULL|                         0.00|    NULL|                                 0.00|    NULL|                              0.00|             0.00|   NULL|                   0.00|              0.00|                    0.00|                           1.00|      1|             0.00|              0.00|                                 0.00|                     0.00|                0.00|    NULL|                 0.00|   NULL|                            0.00|    NULL|       NULL|                                  0|                                 0|                                                                           NULL|                                                                NULL|                                              NULL|         NULL|                                   NULL|                               NULL|                                     0|                                 0|          NULL|           NULL|              NULL|                NULL|                   NULL|                              NULL|                           NULL|                                      NULL|                          NULL|                                     NULL|                NULL|                           NULL|\n",
            "|United States|        USA|    Alaska|     US_AK| STATE_TOTAL|202001|              0.00|    NULL|                 0.00|    NULL|                    0.00|    NULL|                          0.00|    NULL|                      0.00|    NULL|                         0.00|    NULL|                                 0.00|    NULL|                              0.00|             0.00|   NULL|                   0.00|              0.00|                    0.00|                           1.00|      1|             0.00|              0.00|                                 0.00|                     0.00|                0.00|    NULL|                 0.00|   NULL|                            0.00|    NULL|       NULL|                                  0|                                 0|                                                                           NULL|                                                                NULL|                                              NULL|         NULL|                                   NULL|                               NULL|                                     0|                                 0|          NULL|           NULL|              NULL|                NULL|                   NULL|                              NULL|                           NULL|                                      NULL|                          NULL|                                     NULL|                NULL|                           NULL|\n",
            "|United States|        USA|    Alaska|     US_AK| STATE_TOTAL|202001|              0.00|    NULL|                 0.00|    NULL|                    0.00|    NULL|                          0.00|    NULL|                      0.00|    NULL|                         0.00|    NULL|                                 0.00|    NULL|                              0.00|             0.00|   NULL|                   0.00|              0.00|                    0.00|                           1.00|      1|             0.00|              0.00|                                 0.00|                     0.00|                0.00|    NULL|                 0.00|   NULL|                            0.00|    NULL|       NULL|                                  0|                                 0|                                                                           NULL|                                                                NULL|                                              NULL|         NULL|                                   NULL|                               NULL|                                     0|                                 0|          NULL|           NULL|              NULL|                NULL|                   NULL|                              NULL|                           NULL|                                      NULL|                          NULL|                                     NULL|                NULL|                           NULL|\n",
            "|United States|        USA|    Alaska|     US_AK| STATE_TOTAL|202001|              0.00|    NULL|                 0.00|    NULL|                    0.00|    NULL|                          0.00|    NULL|                      0.00|    NULL|                         0.00|    NULL|                                 0.00|    NULL|                              0.00|             0.00|   NULL|                   0.00|              0.00|                    0.00|                           1.00|      1|             0.00|              0.00|                                 0.00|                     0.00|                0.00|    NULL|                 0.00|   NULL|                            0.00|    NULL|       NULL|                                  0|                                 0|                                                                           NULL|                                                                NULL|                                              NULL|         NULL|                                   NULL|                               NULL|                                     0|                                 0|          NULL|           NULL|              NULL|                NULL|                   NULL|                              NULL|                           NULL|                                      NULL|                          NULL|                                     NULL|                NULL|                           NULL|\n",
            "|United States|        USA|    Alaska|     US_AK| STATE_TOTAL|202001|              0.00|    NULL|                 0.00|    NULL|                    0.00|    NULL|                          0.00|    NULL|                      0.00|    NULL|                         0.00|    NULL|                                 0.00|    NULL|                              0.00|             0.00|   NULL|                   0.00|              0.00|                    0.00|                           1.00|      1|             0.00|              0.00|                                 0.00|                     0.00|                0.00|    NULL|                 0.00|   NULL|                            0.00|    NULL|       NULL|                                  0|                                 0|                                                                           NULL|                                                                NULL|                                              NULL|         NULL|                                   NULL|                               NULL|                                     0|                                 0|          NULL|           NULL|              NULL|                NULL|                   NULL|                              NULL|                           NULL|                                      NULL|                          NULL|                                     NULL|                NULL|                           NULL|\n",
            "|United States|        USA|    Alaska|     US_AK| STATE_TOTAL|202001|              0.00|    NULL|                 0.00|    NULL|                    0.00|    NULL|                          0.00|    NULL|                      0.00|    NULL|                         0.00|    NULL|                                 0.00|    NULL|                              0.00|             0.00|   NULL|                   0.00|              0.00|                    0.00|                           1.00|      1|             0.00|              0.00|                                 0.00|                     0.00|                0.00|    NULL|                 0.00|   NULL|                            0.00|    NULL|       NULL|                                  0|                                 0|                                                                           NULL|                                                                NULL|                                              NULL|         NULL|                                   NULL|                               NULL|                                     0|                                 0|          NULL|           NULL|              NULL|                NULL|                   NULL|                              NULL|                           NULL|                                      NULL|                          NULL|                                     NULL|                NULL|                           NULL|\n",
            "+-------------+-----------+----------+----------+------------+------+------------------+--------+---------------------+--------+------------------------+--------+------------------------------+--------+--------------------------+--------+-----------------------------+--------+-------------------------------------+--------+----------------------------------+-----------------+-------+-----------------------+------------------+------------------------+-------------------------------+-------+-----------------+------------------+-------------------------------------+-------------------------+--------------------+--------+---------------------+-------+--------------------------------+--------+-----------+-----------------------------------+----------------------------------+-------------------------------------------------------------------------------+--------------------------------------------------------------------+--------------------------------------------------+-------------+---------------------------------------+-----------------------------------+--------------------------------------+----------------------------------+--------------+---------------+------------------+--------------------+-----------------------+----------------------------------+-------------------------------+------------------------------------------+------------------------------+-----------------------------------------+--------------------+-------------------------------+\n",
            "only showing top 20 rows\n",
            "\n"
          ]
        }
      ]
    },
    {
      "cell_type": "code",
      "source": [
        "# Step 1: Find mode for each indicator j for each time period t (v j_t)\n",
        "all_column_expr = {x: \"mode\" for x in indicators}\n",
        "indicator_time_mode_df = OxCGRT.groupBy(\"RegionName\", \"Date\").agg(all_column_expr)\n",
        "indicator_time_mode_df.show()\n"
      ],
      "metadata": {
        "colab": {
          "base_uri": "https://localhost:8080/"
        },
        "id": "u-39UfxJ4cr_",
        "outputId": "a6186227-93bc-4498-a752-fa3fa87a6ff2"
      },
      "execution_count": 18,
      "outputs": [
        {
          "output_type": "stream",
          "name": "stdout",
          "text": [
            "+----------+------+------------------------------+-----------------------------+------------------------+-------------------------------------------+--------------------------------------+------------------------+--------------------------+----------------------------------------+-----------------------+--------------------------------+---------------------------+---------------------------+-----------------------------------+-----------------------+-------------------------------------+------------------------------------+\n",
            "|RegionName|  Date|mode(C3M_Cancel public events)|mode(E2_Debt/contract relief)|mode(H3_Contact tracing)|mode(C7M_Restrictions on internal movement)|mode(H8M_Protection of elderly people)|mode(C1M_School closing)|mode(H6M_Facial Coverings)|mode(C8EV_International travel controls)|mode(H2_Testing policy)|mode(C5M_Close public transport)|mode(H7_Vaccination policy)|mode(C2M_Workplace closing)|mode(C6M_Stay at home requirements)|mode(E1_Income support)|mode(H1_Public information campaigns)|mode(C4M_Restrictions on gatherings)|\n",
            "+----------+------+------------------------------+-----------------------------+------------------------+-------------------------------------------+--------------------------------------+------------------------+--------------------------+----------------------------------------+-----------------------+--------------------------------+---------------------------+---------------------------+-----------------------------------+-----------------------+-------------------------------------+------------------------------------+\n",
            "|   Alabama|202001|                          0.00|                         0.00|                    0.00|                                       0.00|                                  0.00|                    0.00|                      0.00|                                    0.00|                   0.00|                            0.00|                       0.00|                       0.00|                               0.00|                   0.00|                                 0.00|                                0.00|\n",
            "|   Alabama|202002|                          0.00|                         0.00|                    1.00|                                       0.00|                                  0.00|                    0.00|                      0.00|                                    3.00|                   1.00|                            0.00|                       0.00|                       0.00|                               0.00|                   0.00|                                 0.00|                                0.00|\n",
            "|   Alabama|202003|                          2.00|                         0.00|                    1.00|                                       1.00|                                  3.00|                    0.00|                      0.00|                                    3.00|                   1.00|                            0.00|                       0.00|                       0.00|                               0.00|                   0.00|                                 2.00|                                0.00|\n",
            "|   Alabama|202004|                          2.00|                         1.00|                    1.00|                                       1.00|                                  3.00|                    3.00|                      1.00|                                    3.00|                   1.00|                            1.00|                       0.00|                       3.00|                               2.00|                   2.00|                                 2.00|                                4.00|\n",
            "|   Alabama|202005|                          2.00|                         1.00|                    1.00|                                       1.00|                                  3.00|                    3.00|                      3.00|                                    3.00|                   2.00|                            1.00|                       0.00|                       3.00|                               2.00|                   2.00|                                 2.00|                                0.00|\n",
            "|   Alabama|202006|                          1.00|                         1.00|                    1.00|                                       1.00|                                  3.00|                    3.00|                      3.00|                                    3.00|                   3.00|                            1.00|                       0.00|                       3.00|                               2.00|                   2.00|                                 2.00|                                0.00|\n",
            "|   Alabama|202007|                          1.00|                         1.00|                    1.00|                                       1.00|                                  3.00|                    3.00|                      3.00|                                    3.00|                   3.00|                            1.00|                       0.00|                       1.00|                               1.00|                   2.00|                                 2.00|                                0.00|\n",
            "|   Alabama|202008|                          1.00|                         0.00|                    1.00|                                       1.00|                                  3.00|                    2.00|                      3.00|                                    3.00|                   3.00|                            0.00|                       0.00|                       1.00|                               1.00|                   1.00|                                 2.00|                                0.00|\n",
            "|   Alabama|202009|                          1.00|                         1.00|                    2.00|                                       1.00|                                  3.00|                    2.00|                      3.00|                                    3.00|                   3.00|                            0.00|                       0.00|                       1.00|                               1.00|                   1.00|                                 2.00|                                0.00|\n",
            "|   Alabama|202010|                          1.00|                         1.00|                    1.00|                                       1.00|                                  2.00|                    2.00|                      3.00|                                    3.00|                   3.00|                            0.00|                       0.00|                       1.00|                               1.00|                   1.00|                                 2.00|                                0.00|\n",
            "|   Alabama|202011|                          1.00|                         1.00|                    1.00|                                       1.00|                                  2.00|                    2.00|                      3.00|                                    3.00|                   3.00|                            0.00|                       0.00|                       1.00|                               1.00|                   1.00|                                 2.00|                                0.00|\n",
            "|   Alabama|202012|                          1.00|                         1.00|                    1.00|                                       1.00|                                  2.00|                    2.00|                      3.00|                                    3.00|                   3.00|                            0.00|                       0.00|                       1.00|                               1.00|                   1.00|                                 2.00|                                0.00|\n",
            "|   Alabama|202101|                          1.00|                         1.00|                    1.00|                                       1.00|                                  2.00|                    2.00|                      3.00|                                    3.00|                   3.00|                            0.00|                       2.00|                       1.00|                               1.00|                   1.00|                                 2.00|                                0.00|\n",
            "|   Alabama|202102|                          1.00|                         1.00|                    1.00|                                       1.00|                                  2.00|                    2.00|                      3.00|                                    3.00|                   2.00|                            0.00|                       2.00|                       1.00|                               1.00|                   1.00|                                 2.00|                                0.00|\n",
            "|   Alabama|202103|                          1.00|                         1.00|                    1.00|                                       1.00|                                  2.00|                    2.00|                      3.00|                                    3.00|                   2.00|                            0.00|                       2.00|                       1.00|                               1.00|                   1.00|                                 2.00|                                0.00|\n",
            "|   Alabama|202104|                          1.00|                         1.00|                    1.00|                                       1.00|                                  2.00|                    1.00|                      2.00|                                    3.00|                   2.00|                            0.00|                       5.00|                       1.00|                               1.00|                   1.00|                                 2.00|                                0.00|\n",
            "|   Alabama|202105|                          1.00|                         1.00|                    1.00|                                       1.00|                                  2.00|                    1.00|                      2.00|                                    3.00|                   2.00|                            0.00|                       5.00|                       0.00|                               1.00|                   1.00|                                 2.00|                                0.00|\n",
            "|   Alabama|202106|                          1.00|                         1.00|                    1.00|                                       1.00|                                  1.00|                    0.00|                      2.00|                                    3.00|                   2.00|                            0.00|                       5.00|                       0.00|                               1.00|                   1.00|                                 2.00|                                0.00|\n",
            "|   Alabama|202107|                          1.00|                         1.00|                    1.00|                                       1.00|                                  1.00|                    0.00|                      2.00|                                    3.00|                   2.00|                            0.00|                       5.00|                       0.00|                               0.00|                   1.00|                                 2.00|                                0.00|\n",
            "|   Alabama|202108|                          0.00|                         1.00|                    1.00|                                       1.00|                                  1.00|                    1.00|                      2.00|                                    3.00|                   3.00|                            0.00|                       5.00|                       0.00|                               0.00|                   1.00|                                 2.00|                                0.00|\n",
            "+----------+------+------------------------------+-----------------------------+------------------------+-------------------------------------------+--------------------------------------+------------------------+--------------------------+----------------------------------------+-----------------------+--------------------------------+---------------------------+---------------------------+-----------------------------------+-----------------------+-------------------------------------+------------------------------------+\n",
            "only showing top 20 rows\n",
            "\n"
          ]
        }
      ]
    },
    {
      "cell_type": "code",
      "source": [
        "# Step 1: Find mode for each indicator j for each time period t (v j_t), need to determine tiebreaker by bigger value\n",
        "# ----ENTER CODE HERE -------\n",
        "def get_mode_for_indicator(df, indicator):\n",
        "  df_grouped = df.groupBy(\"RegionName\", \"Date\", indicator).agg(count(f\"{indicator}\").alias(f\"{indicator}_count\"))\n",
        "  window = Window.partitionBy(\"RegionName\", \"Date\").orderBy(desc(f\"{indicator}_count\"), desc(f\"{indicator}\"))\n",
        "  df_grouped = df_grouped.withColumn(\"rank\", row_number().over(window))\n",
        "  df_grouped = df_grouped.where(\"rank == 1\")\n",
        "  df_grouped = df_grouped.select(\"RegionName\", \"Date\", indicator)\n",
        "  return df_grouped\n",
        "\n",
        "full_df = OxCGRT\n",
        "# Create an empty schema\n",
        "columns = StructType([])\n",
        "\n",
        "# Create an empty dataframe with empty schema\n",
        "df_indicator = spark.createDataFrame(data = [],\n",
        "                           schema = columns)\n",
        "for i, colm in enumerate(indicators):\n",
        "  temp_df = get_mode_for_indicator(full_df, colm)\n",
        "  if i == 0:\n",
        "    df_indicator = temp_df\n",
        "  else:\n",
        "    df_indicator = df_indicator.join(temp_df, [\"RegionName\", \"Date\"])\n",
        "df_indicator.show()\n"
      ],
      "metadata": {
        "colab": {
          "base_uri": "https://localhost:8080/"
        },
        "id": "0ohPP0OJqmcq",
        "outputId": "81ac4b1f-d268-47c9-8900-9223474584c6"
      },
      "execution_count": 34,
      "outputs": [
        {
          "output_type": "stream",
          "name": "stdout",
          "text": [
            "+----------+------+------------------+---------------------+------------------------+------------------------------+--------------------------+-----------------------------+-------------------------------------+----------------------------------+-----------------+-----------------------+-------------------------------+-----------------+------------------+--------------------+---------------------+--------------------------------+\n",
            "|RegionName|  Date|C1M_School closing|C2M_Workplace closing|C3M_Cancel public events|C4M_Restrictions on gatherings|C5M_Close public transport|C6M_Stay at home requirements|C7M_Restrictions on internal movement|C8EV_International travel controls|E1_Income support|E2_Debt/contract relief|H1_Public information campaigns|H2_Testing policy|H3_Contact tracing|H6M_Facial Coverings|H7_Vaccination policy|H8M_Protection of elderly people|\n",
            "+----------+------+------------------+---------------------+------------------------+------------------------------+--------------------------+-----------------------------+-------------------------------------+----------------------------------+-----------------+-----------------------+-------------------------------+-----------------+------------------+--------------------+---------------------+--------------------------------+\n",
            "|   Alabama|202001|              0.00|                 0.00|                    0.00|                          0.00|                      0.00|                         0.00|                                 0.00|                              0.00|             0.00|                   0.00|                           0.00|             0.00|              0.00|                0.00|                 0.00|                            0.00|\n",
            "|   Alabama|202002|              0.00|                 0.00|                    0.00|                          0.00|                      0.00|                         0.00|                                 0.00|                              3.00|             0.00|                   0.00|                           0.00|             1.00|              1.00|                0.00|                 0.00|                            0.00|\n",
            "|   Alabama|202003|              3.00|                 3.00|                    2.00|                          0.00|                      0.00|                         0.00|                                 1.00|                              3.00|             0.00|                   0.00|                           2.00|             1.00|              1.00|                0.00|                 0.00|                            3.00|\n",
            "|   Alabama|202004|              3.00|                 3.00|                    2.00|                          4.00|                      1.00|                         2.00|                                 1.00|                              3.00|             2.00|                   1.00|                           2.00|             2.00|              1.00|                1.00|                 0.00|                            3.00|\n",
            "|   Alabama|202005|              3.00|                 3.00|                    2.00|                          0.00|                      1.00|                         2.00|                                 1.00|                              3.00|             2.00|                   1.00|                           2.00|             2.00|              1.00|                3.00|                 0.00|                            3.00|\n",
            "|   Alabama|202006|              3.00|                 3.00|                    1.00|                          0.00|                      1.00|                         2.00|                                 1.00|                              3.00|             2.00|                   1.00|                           2.00|             3.00|              1.00|                3.00|                 0.00|                            3.00|\n",
            "|   Alabama|202007|              3.00|                 1.00|                    1.00|                          0.00|                      1.00|                         1.00|                                 1.00|                              3.00|             2.00|                   1.00|                           2.00|             3.00|              1.00|                3.00|                 0.00|                            3.00|\n",
            "|   Alabama|202008|              2.00|                 1.00|                    1.00|                          0.00|                      0.00|                         1.00|                                 1.00|                              3.00|             1.00|                   0.00|                           2.00|             3.00|              1.00|                3.00|                 0.00|                            3.00|\n",
            "|   Alabama|202009|              2.00|                 1.00|                    1.00|                          0.00|                      0.00|                         1.00|                                 1.00|                              3.00|             1.00|                   1.00|                           2.00|             3.00|              2.00|                3.00|                 0.00|                            3.00|\n",
            "|   Alabama|202010|              2.00|                 1.00|                    1.00|                          0.00|                      0.00|                         1.00|                                 1.00|                              3.00|             1.00|                   1.00|                           2.00|             3.00|              1.00|                3.00|                 0.00|                            2.00|\n",
            "|   Alabama|202011|              2.00|                 1.00|                    1.00|                          0.00|                      0.00|                         1.00|                                 1.00|                              3.00|             1.00|                   1.00|                           2.00|             3.00|              1.00|                3.00|                 0.00|                            2.00|\n",
            "|   Alabama|202012|              2.00|                 1.00|                    1.00|                          0.00|                      0.00|                         1.00|                                 1.00|                              3.00|             1.00|                   1.00|                           2.00|             3.00|              1.00|                3.00|                 0.00|                            2.00|\n",
            "|   Alabama|202101|              2.00|                 1.00|                    1.00|                          0.00|                      0.00|                         1.00|                                 1.00|                              3.00|             1.00|                   1.00|                           2.00|             3.00|              1.00|                3.00|                 2.00|                            2.00|\n",
            "|   Alabama|202102|              2.00|                 1.00|                    1.00|                          0.00|                      0.00|                         1.00|                                 1.00|                              3.00|             1.00|                   1.00|                           2.00|             2.00|              1.00|                3.00|                 2.00|                            2.00|\n",
            "|   Alabama|202103|              2.00|                 1.00|                    1.00|                          0.00|                      0.00|                         1.00|                                 1.00|                              3.00|             1.00|                   1.00|                           2.00|             2.00|              1.00|                3.00|                 2.00|                            2.00|\n",
            "|   Alabama|202104|              1.00|                 1.00|                    1.00|                          0.00|                      0.00|                         1.00|                                 1.00|                              3.00|             1.00|                   1.00|                           2.00|             2.00|              1.00|                2.00|                 5.00|                            2.00|\n",
            "|   Alabama|202105|              1.00|                 0.00|                    1.00|                          0.00|                      0.00|                         1.00|                                 1.00|                              3.00|             1.00|                   1.00|                           2.00|             2.00|              1.00|                2.00|                 5.00|                            2.00|\n",
            "|   Alabama|202106|              0.00|                 0.00|                    1.00|                          0.00|                      0.00|                         1.00|                                 1.00|                              3.00|             1.00|                   1.00|                           2.00|             2.00|              1.00|                2.00|                 5.00|                            1.00|\n",
            "|   Alabama|202107|              0.00|                 0.00|                    1.00|                          0.00|                      0.00|                         0.00|                                 1.00|                              3.00|             1.00|                   1.00|                           2.00|             2.00|              1.00|                2.00|                 5.00|                            1.00|\n",
            "|   Alabama|202108|              1.00|                 0.00|                    0.00|                          0.00|                      0.00|                         0.00|                                 1.00|                              3.00|             1.00|                   1.00|                           2.00|             3.00|              1.00|                2.00|                 5.00|                            1.00|\n",
            "+----------+------+------------------+---------------------+------------------------+------------------------------+--------------------------+-----------------------------+-------------------------------------+----------------------------------+-----------------+-----------------------+-------------------------------+-----------------+------------------+--------------------+---------------------+--------------------------------+\n",
            "only showing top 20 rows\n",
            "\n"
          ]
        }
      ]
    },
    {
      "cell_type": "code",
      "source": [
        "df_test.select(\"Date\").distinct().show(50)"
      ],
      "metadata": {
        "colab": {
          "base_uri": "https://localhost:8080/"
        },
        "id": "5_C8BOErfGSn",
        "outputId": "bc69a58f-331a-407c-963d-bb647ca6a720"
      },
      "execution_count": 20,
      "outputs": [
        {
          "output_type": "stream",
          "name": "stdout",
          "text": [
            "+------+\n",
            "|  Date|\n",
            "+------+\n",
            "|202110|\n",
            "|202006|\n",
            "|202009|\n",
            "|202101|\n",
            "|202011|\n",
            "|202007|\n",
            "|202111|\n",
            "|202108|\n",
            "|202109|\n",
            "|202005|\n",
            "|202012|\n",
            "|202004|\n",
            "|202102|\n",
            "|202105|\n",
            "|202103|\n",
            "|202107|\n",
            "|202003|\n",
            "|202112|\n",
            "|202010|\n",
            "|202001|\n",
            "|202008|\n",
            "|202002|\n",
            "|202104|\n",
            "|202106|\n",
            "+------+\n",
            "\n"
          ]
        }
      ]
    },
    {
      "cell_type": "code",
      "source": [
        "# Step 2: Find mode for indicator flags (f_jt)\n",
        "def get_mode(df, indicator):\n",
        "  df_grouped = df.groupBy(\"RegionName\", \"Date\", indicator).agg(count(f\"{indicator}\").alias(f\"{indicator}_count\"))\n",
        "  window = Window.partitionBy(\"RegionName\", \"Date\").orderBy(desc(f\"{indicator}_count\"), desc(f\"{indicator}\"))\n",
        "  df_grouped = df_grouped.withColumn(\"rank\", row_number().over(window))\n",
        "  df_grouped = df_grouped.where(\"rank == 1\")\n",
        "  df_grouped = df_grouped.select(\"RegionName\", \"Date\", indicator)\n",
        "  return df_grouped\n",
        "\n",
        "full_df = OxCGRT\n",
        "# Create an empty schema\n",
        "columns = StructType([])\n",
        "\n",
        "# Create an empty dataframe with empty schema\n",
        "df_flags = spark.createDataFrame(data = [],\n",
        "                           schema = columns)\n",
        "for i, colm in enumerate(indicator_flags):\n",
        "  test_df = get_mode(full_df, colm)\n",
        "  if i == 0:\n",
        "    df_flags = test_df\n",
        "  else:\n",
        "    df_flags = df_flags.join(test_df, [\"RegionName\", \"Date\"])\n",
        "\n",
        "# add in null flag colummns to flag spark dataframe\n",
        "null_flags = ['C8EV_Flag', 'E2_Flag', 'H2_Flag', 'H3_Flag']\n",
        "for f in null_flags:\n",
        "  df_flags = df_flags.withColumn(f, lit(None))\n",
        "df_flags.show()"
      ],
      "metadata": {
        "colab": {
          "base_uri": "https://localhost:8080/"
        },
        "id": "NCtOUDlhK22w",
        "outputId": "28df3736-b092-45c8-9521-9534212c3d76"
      },
      "execution_count": 43,
      "outputs": [
        {
          "output_type": "stream",
          "name": "stdout",
          "text": [
            "+----------+------+--------+--------+--------+--------+--------+--------+--------+-------+-------+--------+-------+--------+---------+-------+-------+-------+\n",
            "|RegionName|  Date|C1M_Flag|C2M_Flag|C3M_Flag|C4M_Flag|C5M_Flag|C6M_Flag|C7M_Flag|E1_Flag|H1_Flag|H6M_Flag|H7_Flag|H8M_Flag|C8EV_Flag|E2_Flag|H2_Flag|H3_Flag|\n",
            "+----------+------+--------+--------+--------+--------+--------+--------+--------+-------+-------+--------+-------+--------+---------+-------+-------+-------+\n",
            "|   Alabama|202001|    NULL|    NULL|    NULL|    NULL|    NULL|    NULL|    NULL|   NULL|   NULL|    NULL|   NULL|    NULL|     NULL|   NULL|   NULL|   NULL|\n",
            "|   Alabama|202002|    NULL|    NULL|    NULL|    NULL|    NULL|    NULL|    NULL|   NULL|      1|    NULL|   NULL|    NULL|     NULL|   NULL|   NULL|   NULL|\n",
            "|   Alabama|202003|       1|       0|       0|       0|       0|       0|       1|      0|      0|    NULL|   NULL|       1|     NULL|   NULL|   NULL|   NULL|\n",
            "|   Alabama|202004|       1|       1|       1|       1|       0|       1|       1|      0|      1|       1|   NULL|       1|     NULL|   NULL|   NULL|   NULL|\n",
            "|   Alabama|202005|       0|       0|       1|       1|       0|       0|       1|      0|      1|       0|   NULL|       1|     NULL|   NULL|   NULL|   NULL|\n",
            "|   Alabama|202006|       0|       0|       1|    NULL|       0|       0|       1|      0|      1|       0|   NULL|       1|     NULL|   NULL|   NULL|   NULL|\n",
            "|   Alabama|202007|       0|       1|       1|    NULL|       0|       1|       1|      0|      1|       1|   NULL|       1|     NULL|   NULL|   NULL|   NULL|\n",
            "|   Alabama|202008|       0|       1|       1|    NULL|       0|       1|       1|      0|      1|       1|   NULL|       1|     NULL|   NULL|   NULL|   NULL|\n",
            "|   Alabama|202009|       0|       1|       1|    NULL|    NULL|       1|       1|      0|      1|       1|   NULL|       1|     NULL|   NULL|   NULL|   NULL|\n",
            "|   Alabama|202010|       0|       1|       1|    NULL|    NULL|       1|       1|      0|      1|       1|   NULL|       1|     NULL|   NULL|   NULL|   NULL|\n",
            "|   Alabama|202011|       0|       1|       1|    NULL|    NULL|       1|       1|      0|      1|       1|   NULL|       1|     NULL|   NULL|   NULL|   NULL|\n",
            "|   Alabama|202012|       0|       1|       1|    NULL|    NULL|       1|       1|      0|      1|       1|      1|       1|     NULL|   NULL|   NULL|   NULL|\n",
            "|   Alabama|202101|       0|       1|       1|    NULL|    NULL|       1|       1|      0|      1|       1|      1|       1|     NULL|   NULL|   NULL|   NULL|\n",
            "|   Alabama|202102|       0|       1|       1|    NULL|    NULL|       1|       1|      0|      1|       1|      1|       1|     NULL|   NULL|   NULL|   NULL|\n",
            "|   Alabama|202103|       0|       1|       1|    NULL|    NULL|       1|       1|      0|      1|       1|      1|       1|     NULL|   NULL|   NULL|   NULL|\n",
            "|   Alabama|202104|       1|       1|       1|    NULL|    NULL|       1|       1|      0|      1|       0|      1|       1|     NULL|   NULL|   NULL|   NULL|\n",
            "|   Alabama|202105|       1|    NULL|       1|    NULL|    NULL|       1|       1|      0|      1|       0|      1|       1|     NULL|   NULL|   NULL|   NULL|\n",
            "|   Alabama|202106|    NULL|    NULL|       1|    NULL|    NULL|       1|       1|      0|      1|       1|      1|       1|     NULL|   NULL|   NULL|   NULL|\n",
            "|   Alabama|202107|       1|    NULL|       1|    NULL|    NULL|       1|       1|      0|      1|       1|      1|       1|     NULL|   NULL|   NULL|   NULL|\n",
            "|   Alabama|202108|       1|    NULL|       1|    NULL|    NULL|    NULL|       1|      0|      1|       0|      1|       1|     NULL|   NULL|   NULL|   NULL|\n",
            "+----------+------+--------+--------+--------+--------+--------+--------+--------+-------+-------+--------+-------+--------+---------+-------+-------+-------+\n",
            "only showing top 20 rows\n",
            "\n"
          ]
        }
      ]
    },
    {
      "cell_type": "code",
      "source": [
        "# Join two dataframes together\n",
        "merged_df = df_indicator.join(df_flags, [\"RegionName\", \"Date\"])\n",
        "merged_df.show()"
      ],
      "metadata": {
        "colab": {
          "base_uri": "https://localhost:8080/"
        },
        "id": "ze68QLcPBigD",
        "outputId": "4a30f950-99e2-4c7b-d115-6fa24bc18c47"
      },
      "execution_count": 52,
      "outputs": [
        {
          "output_type": "stream",
          "name": "stdout",
          "text": [
            "+----------+------+------------------+---------------------+------------------------+------------------------------+--------------------------+-----------------------------+-------------------------------------+----------------------------------+-----------------+-----------------------+-------------------------------+-----------------+------------------+--------------------+---------------------+--------------------------------+--------+--------+--------+--------+--------+--------+--------+-------+-------+--------+-------+--------+---------+-------+-------+-------+\n",
            "|RegionName|  Date|C1M_School closing|C2M_Workplace closing|C3M_Cancel public events|C4M_Restrictions on gatherings|C5M_Close public transport|C6M_Stay at home requirements|C7M_Restrictions on internal movement|C8EV_International travel controls|E1_Income support|E2_Debt/contract relief|H1_Public information campaigns|H2_Testing policy|H3_Contact tracing|H6M_Facial Coverings|H7_Vaccination policy|H8M_Protection of elderly people|C1M_Flag|C2M_Flag|C3M_Flag|C4M_Flag|C5M_Flag|C6M_Flag|C7M_Flag|E1_Flag|H1_Flag|H6M_Flag|H7_Flag|H8M_Flag|C8EV_Flag|E2_Flag|H2_Flag|H3_Flag|\n",
            "+----------+------+------------------+---------------------+------------------------+------------------------------+--------------------------+-----------------------------+-------------------------------------+----------------------------------+-----------------+-----------------------+-------------------------------+-----------------+------------------+--------------------+---------------------+--------------------------------+--------+--------+--------+--------+--------+--------+--------+-------+-------+--------+-------+--------+---------+-------+-------+-------+\n",
            "|   Alabama|202001|              0.00|                 0.00|                    0.00|                          0.00|                      0.00|                         0.00|                                 0.00|                              0.00|             0.00|                   0.00|                           0.00|             0.00|              0.00|                0.00|                 0.00|                            0.00|    NULL|    NULL|    NULL|    NULL|    NULL|    NULL|    NULL|   NULL|   NULL|    NULL|   NULL|    NULL|     NULL|   NULL|   NULL|   NULL|\n",
            "|   Alabama|202002|              0.00|                 0.00|                    0.00|                          0.00|                      0.00|                         0.00|                                 0.00|                              3.00|             0.00|                   0.00|                           0.00|             1.00|              1.00|                0.00|                 0.00|                            0.00|    NULL|    NULL|    NULL|    NULL|    NULL|    NULL|    NULL|   NULL|      1|    NULL|   NULL|    NULL|     NULL|   NULL|   NULL|   NULL|\n",
            "|   Alabama|202003|              3.00|                 3.00|                    2.00|                          0.00|                      0.00|                         0.00|                                 1.00|                              3.00|             0.00|                   0.00|                           2.00|             1.00|              1.00|                0.00|                 0.00|                            3.00|       1|       0|       0|       0|       0|       0|       1|      0|      0|    NULL|   NULL|       1|     NULL|   NULL|   NULL|   NULL|\n",
            "|   Alabama|202004|              3.00|                 3.00|                    2.00|                          4.00|                      1.00|                         2.00|                                 1.00|                              3.00|             2.00|                   1.00|                           2.00|             2.00|              1.00|                1.00|                 0.00|                            3.00|       1|       1|       1|       1|       0|       1|       1|      0|      1|       1|   NULL|       1|     NULL|   NULL|   NULL|   NULL|\n",
            "|   Alabama|202005|              3.00|                 3.00|                    2.00|                          0.00|                      1.00|                         2.00|                                 1.00|                              3.00|             2.00|                   1.00|                           2.00|             2.00|              1.00|                3.00|                 0.00|                            3.00|       0|       0|       1|       1|       0|       0|       1|      0|      1|       0|   NULL|       1|     NULL|   NULL|   NULL|   NULL|\n",
            "|   Alabama|202006|              3.00|                 3.00|                    1.00|                          0.00|                      1.00|                         2.00|                                 1.00|                              3.00|             2.00|                   1.00|                           2.00|             3.00|              1.00|                3.00|                 0.00|                            3.00|       0|       0|       1|    NULL|       0|       0|       1|      0|      1|       0|   NULL|       1|     NULL|   NULL|   NULL|   NULL|\n",
            "|   Alabama|202007|              3.00|                 1.00|                    1.00|                          0.00|                      1.00|                         1.00|                                 1.00|                              3.00|             2.00|                   1.00|                           2.00|             3.00|              1.00|                3.00|                 0.00|                            3.00|       0|       1|       1|    NULL|       0|       1|       1|      0|      1|       1|   NULL|       1|     NULL|   NULL|   NULL|   NULL|\n",
            "|   Alabama|202008|              2.00|                 1.00|                    1.00|                          0.00|                      0.00|                         1.00|                                 1.00|                              3.00|             1.00|                   0.00|                           2.00|             3.00|              1.00|                3.00|                 0.00|                            3.00|       0|       1|       1|    NULL|       0|       1|       1|      0|      1|       1|   NULL|       1|     NULL|   NULL|   NULL|   NULL|\n",
            "|   Alabama|202009|              2.00|                 1.00|                    1.00|                          0.00|                      0.00|                         1.00|                                 1.00|                              3.00|             1.00|                   1.00|                           2.00|             3.00|              2.00|                3.00|                 0.00|                            3.00|       0|       1|       1|    NULL|    NULL|       1|       1|      0|      1|       1|   NULL|       1|     NULL|   NULL|   NULL|   NULL|\n",
            "|   Alabama|202010|              2.00|                 1.00|                    1.00|                          0.00|                      0.00|                         1.00|                                 1.00|                              3.00|             1.00|                   1.00|                           2.00|             3.00|              1.00|                3.00|                 0.00|                            2.00|       0|       1|       1|    NULL|    NULL|       1|       1|      0|      1|       1|   NULL|       1|     NULL|   NULL|   NULL|   NULL|\n",
            "|   Alabama|202011|              2.00|                 1.00|                    1.00|                          0.00|                      0.00|                         1.00|                                 1.00|                              3.00|             1.00|                   1.00|                           2.00|             3.00|              1.00|                3.00|                 0.00|                            2.00|       0|       1|       1|    NULL|    NULL|       1|       1|      0|      1|       1|   NULL|       1|     NULL|   NULL|   NULL|   NULL|\n",
            "|   Alabama|202012|              2.00|                 1.00|                    1.00|                          0.00|                      0.00|                         1.00|                                 1.00|                              3.00|             1.00|                   1.00|                           2.00|             3.00|              1.00|                3.00|                 0.00|                            2.00|       0|       1|       1|    NULL|    NULL|       1|       1|      0|      1|       1|      1|       1|     NULL|   NULL|   NULL|   NULL|\n",
            "|   Alabama|202101|              2.00|                 1.00|                    1.00|                          0.00|                      0.00|                         1.00|                                 1.00|                              3.00|             1.00|                   1.00|                           2.00|             3.00|              1.00|                3.00|                 2.00|                            2.00|       0|       1|       1|    NULL|    NULL|       1|       1|      0|      1|       1|      1|       1|     NULL|   NULL|   NULL|   NULL|\n",
            "|   Alabama|202102|              2.00|                 1.00|                    1.00|                          0.00|                      0.00|                         1.00|                                 1.00|                              3.00|             1.00|                   1.00|                           2.00|             2.00|              1.00|                3.00|                 2.00|                            2.00|       0|       1|       1|    NULL|    NULL|       1|       1|      0|      1|       1|      1|       1|     NULL|   NULL|   NULL|   NULL|\n",
            "|   Alabama|202103|              2.00|                 1.00|                    1.00|                          0.00|                      0.00|                         1.00|                                 1.00|                              3.00|             1.00|                   1.00|                           2.00|             2.00|              1.00|                3.00|                 2.00|                            2.00|       0|       1|       1|    NULL|    NULL|       1|       1|      0|      1|       1|      1|       1|     NULL|   NULL|   NULL|   NULL|\n",
            "|   Alabama|202104|              1.00|                 1.00|                    1.00|                          0.00|                      0.00|                         1.00|                                 1.00|                              3.00|             1.00|                   1.00|                           2.00|             2.00|              1.00|                2.00|                 5.00|                            2.00|       1|       1|       1|    NULL|    NULL|       1|       1|      0|      1|       0|      1|       1|     NULL|   NULL|   NULL|   NULL|\n",
            "|   Alabama|202105|              1.00|                 0.00|                    1.00|                          0.00|                      0.00|                         1.00|                                 1.00|                              3.00|             1.00|                   1.00|                           2.00|             2.00|              1.00|                2.00|                 5.00|                            2.00|       1|    NULL|       1|    NULL|    NULL|       1|       1|      0|      1|       0|      1|       1|     NULL|   NULL|   NULL|   NULL|\n",
            "|   Alabama|202106|              0.00|                 0.00|                    1.00|                          0.00|                      0.00|                         1.00|                                 1.00|                              3.00|             1.00|                   1.00|                           2.00|             2.00|              1.00|                2.00|                 5.00|                            1.00|    NULL|    NULL|       1|    NULL|    NULL|       1|       1|      0|      1|       1|      1|       1|     NULL|   NULL|   NULL|   NULL|\n",
            "|   Alabama|202107|              0.00|                 0.00|                    1.00|                          0.00|                      0.00|                         0.00|                                 1.00|                              3.00|             1.00|                   1.00|                           2.00|             2.00|              1.00|                2.00|                 5.00|                            1.00|       1|    NULL|       1|    NULL|    NULL|       1|       1|      0|      1|       1|      1|       1|     NULL|   NULL|   NULL|   NULL|\n",
            "|   Alabama|202108|              1.00|                 0.00|                    0.00|                          0.00|                      0.00|                         0.00|                                 1.00|                              3.00|             1.00|                   1.00|                           2.00|             3.00|              1.00|                2.00|                 5.00|                            1.00|       1|    NULL|       1|    NULL|    NULL|    NULL|       1|      0|      1|       0|      1|       1|     NULL|   NULL|   NULL|   NULL|\n",
            "+----------+------+------------------+---------------------+------------------------+------------------------------+--------------------------+-----------------------------+-------------------------------------+----------------------------------+-----------------+-----------------------+-------------------------------+-----------------+------------------+--------------------+---------------------+--------------------------------+--------+--------+--------+--------+--------+--------+--------+-------+-------+--------+-------+--------+---------+-------+-------+-------+\n",
            "only showing top 20 rows\n",
            "\n"
          ]
        }
      ]
    },
    {
      "cell_type": "code",
      "source": [],
      "metadata": {
        "id": "hag3VhKP-RjS"
      },
      "execution_count": null,
      "outputs": []
    },
    {
      "cell_type": "code",
      "source": [
        "# calculate index scores each regionname-date combination\n",
        "for i in range(len(indicators)):\n",
        "  indicator, flag = indicators[i], full_indicator_flags[i]\n",
        "  F = flag_dict[flag]\n",
        "  N = ind_dict[indicator]\n",
        "\n",
        "  if i == 0:\n",
        "    score_df = merged_df.withColumn(\n",
        "    f'score{indicator}',\n",
        "    when(merged_df[indicator] == 0, 0)\n",
        "    .otherwise(100 * (merged_df[indicator] - 0.5 * (F - merged_df[flag])) / N)\n",
        "    )\n",
        "  else:\n",
        "    score_df = score_df.withColumn(\n",
        "    f'score_{indicator}',\n",
        "    when(score_df[indicator] == 0, 0)\n",
        "    .otherwise(100 * (score_df[indicator] - 0.5 * (F - coalesce(score_df[flag], lit(0)))) / N)\n",
        "    )\n",
        "\n",
        "# Show the updated dataframe with the score columns\n",
        "score_df.show()"
      ],
      "metadata": {
        "colab": {
          "base_uri": "https://localhost:8080/"
        },
        "id": "E1CVCoBjq0Kx",
        "outputId": "26fe4665-0dcf-44a6-d6f8-be15066af72f"
      },
      "execution_count": 115,
      "outputs": [
        {
          "output_type": "stream",
          "name": "stdout",
          "text": [
            "+----------+------+------------------+---------------------+------------------------+------------------------------+--------------------------+-----------------------------+-------------------------------------+----------------------------------+-----------------+-----------------------+-------------------------------+-----------------+------------------+--------------------+---------------------+--------------------------------+--------+--------+--------+--------+--------+--------+--------+-------+-------+--------+-------+--------+---------+-------+-------+-------+-----------------------+---------------------------+------------------------------+------------------------------------+--------------------------------+-----------------------------------+-------------------------------------------+----------------------------------------+-----------------------+-----------------------------+-------------------------------------+-----------------------+------------------------+--------------------------+---------------------------+--------------------------------------+\n",
            "|RegionName|  Date|C1M_School closing|C2M_Workplace closing|C3M_Cancel public events|C4M_Restrictions on gatherings|C5M_Close public transport|C6M_Stay at home requirements|C7M_Restrictions on internal movement|C8EV_International travel controls|E1_Income support|E2_Debt/contract relief|H1_Public information campaigns|H2_Testing policy|H3_Contact tracing|H6M_Facial Coverings|H7_Vaccination policy|H8M_Protection of elderly people|C1M_Flag|C2M_Flag|C3M_Flag|C4M_Flag|C5M_Flag|C6M_Flag|C7M_Flag|E1_Flag|H1_Flag|H6M_Flag|H7_Flag|H8M_Flag|C8EV_Flag|E2_Flag|H2_Flag|H3_Flag|scoreC1M_School closing|score_C2M_Workplace closing|score_C3M_Cancel public events|score_C4M_Restrictions on gatherings|score_C5M_Close public transport|score_C6M_Stay at home requirements|score_C7M_Restrictions on internal movement|score_C8EV_International travel controls|score_E1_Income support|score_E2_Debt/contract relief|score_H1_Public information campaigns|score_H2_Testing policy|score_H3_Contact tracing|score_H6M_Facial Coverings|score_H7_Vaccination policy|score_H8M_Protection of elderly people|\n",
            "+----------+------+------------------+---------------------+------------------------+------------------------------+--------------------------+-----------------------------+-------------------------------------+----------------------------------+-----------------+-----------------------+-------------------------------+-----------------+------------------+--------------------+---------------------+--------------------------------+--------+--------+--------+--------+--------+--------+--------+-------+-------+--------+-------+--------+---------+-------+-------+-------+-----------------------+---------------------------+------------------------------+------------------------------------+--------------------------------+-----------------------------------+-------------------------------------------+----------------------------------------+-----------------------+-----------------------------+-------------------------------------+-----------------------+------------------------+--------------------------+---------------------------+--------------------------------------+\n",
            "|   Alabama|202001|              0.00|                 0.00|                    0.00|                          0.00|                      0.00|                         0.00|                                 0.00|                              0.00|             0.00|                   0.00|                           0.00|             0.00|              0.00|                0.00|                 0.00|                            0.00|    NULL|    NULL|    NULL|    NULL|    NULL|    NULL|    NULL|   NULL|   NULL|    NULL|   NULL|    NULL|     NULL|   NULL|   NULL|   NULL|                    0.0|                        0.0|                           0.0|                                 0.0|                             0.0|                                0.0|                                        0.0|                                     0.0|                    0.0|                          0.0|                                  0.0|                    0.0|                     0.0|                       0.0|                        0.0|                                   0.0|\n",
            "|   Alabama|202002|              0.00|                 0.00|                    0.00|                          0.00|                      0.00|                         0.00|                                 0.00|                              3.00|             0.00|                   0.00|                           0.00|             1.00|              1.00|                0.00|                 0.00|                            0.00|    NULL|    NULL|    NULL|    NULL|    NULL|    NULL|    NULL|   NULL|      1|    NULL|   NULL|    NULL|     NULL|   NULL|   NULL|   NULL|                    0.0|                        0.0|                           0.0|                                 0.0|                             0.0|                                0.0|                                        0.0|                                    75.0|                    0.0|                          0.0|                                  0.0|     33.333333333333336|                    50.0|                       0.0|                        0.0|                                   0.0|\n",
            "|   Alabama|202003|              3.00|                 3.00|                    2.00|                          0.00|                      0.00|                         0.00|                                 1.00|                              3.00|             0.00|                   0.00|                           2.00|             1.00|              1.00|                0.00|                 0.00|                            3.00|       1|       0|       0|       0|       0|       0|       1|      0|      0|    NULL|   NULL|       1|     NULL|   NULL|   NULL|   NULL|                  100.0|          83.33333333333333|                          75.0|                                 0.0|                             0.0|                                0.0|                                       50.0|                                    75.0|                    0.0|                          0.0|                                 75.0|     33.333333333333336|                    50.0|                       0.0|                        0.0|                                 100.0|\n",
            "|   Alabama|202004|              3.00|                 3.00|                    2.00|                          4.00|                      1.00|                         2.00|                                 1.00|                              3.00|             2.00|                   1.00|                           2.00|             2.00|              1.00|                1.00|                 0.00|                            3.00|       1|       1|       1|       1|       0|       1|       1|      0|      1|       1|   NULL|       1|     NULL|   NULL|   NULL|   NULL|                  100.0|                      100.0|                         100.0|                               100.0|                            25.0|                  66.66666666666667|                                       50.0|                                    75.0|                   75.0|                         50.0|                                100.0|      66.66666666666667|                    50.0|                      25.0|                        0.0|                                 100.0|\n",
            "|   Alabama|202005|              3.00|                 3.00|                    2.00|                          0.00|                      1.00|                         2.00|                                 1.00|                              3.00|             2.00|                   1.00|                           2.00|             2.00|              1.00|                3.00|                 0.00|                            3.00|       0|       0|       1|       1|       0|       0|       1|      0|      1|       0|   NULL|       1|     NULL|   NULL|   NULL|   NULL|      83.33333333333333|          83.33333333333333|                         100.0|                                 0.0|                            25.0|                               50.0|                                       50.0|                                    75.0|                   75.0|                         50.0|                                100.0|      66.66666666666667|                    50.0|                      62.5|                        0.0|                                 100.0|\n",
            "|   Alabama|202006|              3.00|                 3.00|                    1.00|                          0.00|                      1.00|                         2.00|                                 1.00|                              3.00|             2.00|                   1.00|                           2.00|             3.00|              1.00|                3.00|                 0.00|                            3.00|       0|       0|       1|    NULL|       0|       0|       1|      0|      1|       0|   NULL|       1|     NULL|   NULL|   NULL|   NULL|      83.33333333333333|          83.33333333333333|                          50.0|                                 0.0|                            25.0|                               50.0|                                       50.0|                                    75.0|                   75.0|                         50.0|                                100.0|                  100.0|                    50.0|                      62.5|                        0.0|                                 100.0|\n",
            "|   Alabama|202007|              3.00|                 1.00|                    1.00|                          0.00|                      1.00|                         1.00|                                 1.00|                              3.00|             2.00|                   1.00|                           2.00|             3.00|              1.00|                3.00|                 0.00|                            3.00|       0|       1|       1|    NULL|       0|       1|       1|      0|      1|       1|   NULL|       1|     NULL|   NULL|   NULL|   NULL|      83.33333333333333|         33.333333333333336|                          50.0|                                 0.0|                            25.0|                 33.333333333333336|                                       50.0|                                    75.0|                   75.0|                         50.0|                                100.0|                  100.0|                    50.0|                      75.0|                        0.0|                                 100.0|\n",
            "|   Alabama|202008|              2.00|                 1.00|                    1.00|                          0.00|                      0.00|                         1.00|                                 1.00|                              3.00|             1.00|                   0.00|                           2.00|             3.00|              1.00|                3.00|                 0.00|                            3.00|       0|       1|       1|    NULL|       0|       1|       1|      0|      1|       1|   NULL|       1|     NULL|   NULL|   NULL|   NULL|                   50.0|         33.333333333333336|                          50.0|                                 0.0|                             0.0|                 33.333333333333336|                                       50.0|                                    75.0|                   25.0|                          0.0|                                100.0|                  100.0|                    50.0|                      75.0|                        0.0|                                 100.0|\n",
            "|   Alabama|202009|              2.00|                 1.00|                    1.00|                          0.00|                      0.00|                         1.00|                                 1.00|                              3.00|             1.00|                   1.00|                           2.00|             3.00|              2.00|                3.00|                 0.00|                            3.00|       0|       1|       1|    NULL|    NULL|       1|       1|      0|      1|       1|   NULL|       1|     NULL|   NULL|   NULL|   NULL|                   50.0|         33.333333333333336|                          50.0|                                 0.0|                             0.0|                 33.333333333333336|                                       50.0|                                    75.0|                   25.0|                         50.0|                                100.0|                  100.0|                   100.0|                      75.0|                        0.0|                                 100.0|\n",
            "|   Alabama|202010|              2.00|                 1.00|                    1.00|                          0.00|                      0.00|                         1.00|                                 1.00|                              3.00|             1.00|                   1.00|                           2.00|             3.00|              1.00|                3.00|                 0.00|                            2.00|       0|       1|       1|    NULL|    NULL|       1|       1|      0|      1|       1|   NULL|       1|     NULL|   NULL|   NULL|   NULL|                   50.0|         33.333333333333336|                          50.0|                                 0.0|                             0.0|                 33.333333333333336|                                       50.0|                                    75.0|                   25.0|                         50.0|                                100.0|                  100.0|                    50.0|                      75.0|                        0.0|                     66.66666666666667|\n",
            "|   Alabama|202011|              2.00|                 1.00|                    1.00|                          0.00|                      0.00|                         1.00|                                 1.00|                              3.00|             1.00|                   1.00|                           2.00|             3.00|              1.00|                3.00|                 0.00|                            2.00|       0|       1|       1|    NULL|    NULL|       1|       1|      0|      1|       1|   NULL|       1|     NULL|   NULL|   NULL|   NULL|                   50.0|         33.333333333333336|                          50.0|                                 0.0|                             0.0|                 33.333333333333336|                                       50.0|                                    75.0|                   25.0|                         50.0|                                100.0|                  100.0|                    50.0|                      75.0|                        0.0|                     66.66666666666667|\n",
            "|   Alabama|202012|              2.00|                 1.00|                    1.00|                          0.00|                      0.00|                         1.00|                                 1.00|                              3.00|             1.00|                   1.00|                           2.00|             3.00|              1.00|                3.00|                 0.00|                            2.00|       0|       1|       1|    NULL|    NULL|       1|       1|      0|      1|       1|      1|       1|     NULL|   NULL|   NULL|   NULL|                   50.0|         33.333333333333336|                          50.0|                                 0.0|                             0.0|                 33.333333333333336|                                       50.0|                                    75.0|                   25.0|                         50.0|                                100.0|                  100.0|                    50.0|                      75.0|                        0.0|                     66.66666666666667|\n",
            "|   Alabama|202101|              2.00|                 1.00|                    1.00|                          0.00|                      0.00|                         1.00|                                 1.00|                              3.00|             1.00|                   1.00|                           2.00|             3.00|              1.00|                3.00|                 2.00|                            2.00|       0|       1|       1|    NULL|    NULL|       1|       1|      0|      1|       1|      1|       1|     NULL|   NULL|   NULL|   NULL|                   50.0|         33.333333333333336|                          50.0|                                 0.0|                             0.0|                 33.333333333333336|                                       50.0|                                    75.0|                   25.0|                         50.0|                                100.0|                  100.0|                    50.0|                      75.0|                       40.0|                     66.66666666666667|\n",
            "|   Alabama|202102|              2.00|                 1.00|                    1.00|                          0.00|                      0.00|                         1.00|                                 1.00|                              3.00|             1.00|                   1.00|                           2.00|             2.00|              1.00|                3.00|                 2.00|                            2.00|       0|       1|       1|    NULL|    NULL|       1|       1|      0|      1|       1|      1|       1|     NULL|   NULL|   NULL|   NULL|                   50.0|         33.333333333333336|                          50.0|                                 0.0|                             0.0|                 33.333333333333336|                                       50.0|                                    75.0|                   25.0|                         50.0|                                100.0|      66.66666666666667|                    50.0|                      75.0|                       40.0|                     66.66666666666667|\n",
            "|   Alabama|202103|              2.00|                 1.00|                    1.00|                          0.00|                      0.00|                         1.00|                                 1.00|                              3.00|             1.00|                   1.00|                           2.00|             2.00|              1.00|                3.00|                 2.00|                            2.00|       0|       1|       1|    NULL|    NULL|       1|       1|      0|      1|       1|      1|       1|     NULL|   NULL|   NULL|   NULL|                   50.0|         33.333333333333336|                          50.0|                                 0.0|                             0.0|                 33.333333333333336|                                       50.0|                                    75.0|                   25.0|                         50.0|                                100.0|      66.66666666666667|                    50.0|                      75.0|                       40.0|                     66.66666666666667|\n",
            "|   Alabama|202104|              1.00|                 1.00|                    1.00|                          0.00|                      0.00|                         1.00|                                 1.00|                              3.00|             1.00|                   1.00|                           2.00|             2.00|              1.00|                2.00|                 5.00|                            2.00|       1|       1|       1|    NULL|    NULL|       1|       1|      0|      1|       0|      1|       1|     NULL|   NULL|   NULL|   NULL|     33.333333333333336|         33.333333333333336|                          50.0|                                 0.0|                             0.0|                 33.333333333333336|                                       50.0|                                    75.0|                   25.0|                         50.0|                                100.0|      66.66666666666667|                    50.0|                      37.5|                      100.0|                     66.66666666666667|\n",
            "|   Alabama|202105|              1.00|                 0.00|                    1.00|                          0.00|                      0.00|                         1.00|                                 1.00|                              3.00|             1.00|                   1.00|                           2.00|             2.00|              1.00|                2.00|                 5.00|                            2.00|       1|    NULL|       1|    NULL|    NULL|       1|       1|      0|      1|       0|      1|       1|     NULL|   NULL|   NULL|   NULL|     33.333333333333336|                        0.0|                          50.0|                                 0.0|                             0.0|                 33.333333333333336|                                       50.0|                                    75.0|                   25.0|                         50.0|                                100.0|      66.66666666666667|                    50.0|                      37.5|                      100.0|                     66.66666666666667|\n",
            "|   Alabama|202106|              0.00|                 0.00|                    1.00|                          0.00|                      0.00|                         1.00|                                 1.00|                              3.00|             1.00|                   1.00|                           2.00|             2.00|              1.00|                2.00|                 5.00|                            1.00|    NULL|    NULL|       1|    NULL|    NULL|       1|       1|      0|      1|       1|      1|       1|     NULL|   NULL|   NULL|   NULL|                    0.0|                        0.0|                          50.0|                                 0.0|                             0.0|                 33.333333333333336|                                       50.0|                                    75.0|                   25.0|                         50.0|                                100.0|      66.66666666666667|                    50.0|                      50.0|                      100.0|                    33.333333333333336|\n",
            "|   Alabama|202107|              0.00|                 0.00|                    1.00|                          0.00|                      0.00|                         0.00|                                 1.00|                              3.00|             1.00|                   1.00|                           2.00|             2.00|              1.00|                2.00|                 5.00|                            1.00|       1|    NULL|       1|    NULL|    NULL|       1|       1|      0|      1|       1|      1|       1|     NULL|   NULL|   NULL|   NULL|                    0.0|                        0.0|                          50.0|                                 0.0|                             0.0|                                0.0|                                       50.0|                                    75.0|                   25.0|                         50.0|                                100.0|      66.66666666666667|                    50.0|                      50.0|                      100.0|                    33.333333333333336|\n",
            "|   Alabama|202108|              1.00|                 0.00|                    0.00|                          0.00|                      0.00|                         0.00|                                 1.00|                              3.00|             1.00|                   1.00|                           2.00|             3.00|              1.00|                2.00|                 5.00|                            1.00|       1|    NULL|       1|    NULL|    NULL|    NULL|       1|      0|      1|       0|      1|       1|     NULL|   NULL|   NULL|   NULL|     33.333333333333336|                        0.0|                           0.0|                                 0.0|                             0.0|                                0.0|                                       50.0|                                    75.0|                   25.0|                         50.0|                                100.0|                  100.0|                    50.0|                      37.5|                      100.0|                    33.333333333333336|\n",
            "+----------+------+------------------+---------------------+------------------------+------------------------------+--------------------------+-----------------------------+-------------------------------------+----------------------------------+-----------------+-----------------------+-------------------------------+-----------------+------------------+--------------------+---------------------+--------------------------------+--------+--------+--------+--------+--------+--------+--------+-------+-------+--------+-------+--------+---------+-------+-------+-------+-----------------------+---------------------------+------------------------------+------------------------------------+--------------------------------+-----------------------------------+-------------------------------------------+----------------------------------------+-----------------------+-----------------------------+-------------------------------------+-----------------------+------------------------+--------------------------+---------------------------+--------------------------------------+\n",
            "only showing top 20 rows\n",
            "\n"
          ]
        }
      ]
    },
    {
      "cell_type": "code",
      "source": [
        "# Calculate final index score thru SQL\n",
        "score_df.createOrReplaceTempView(\"final_score\")\n",
        "#query = \"\"\"\n",
        "#select RegionName, Date, (cast(\"scoreC1M_School closing\" as float) + cast(\"score_C2M_Workplace closing\" as float)+ cast(\"score_C3M_Cancel public events\" as float) +\n",
        "#cast(\"score_C4M_Restrictions on gatherings\" as float) + cast(\"score_C5M_Close public transport\" as float)+ cast(\"score_C6M_Stay at home requirements\" as float) +\n",
        "#cast(\"score_C7M_Restrictions on internal movement\" as float) + cast(\"score_C8EV_International travel controls\" as float) + cast(\"score_E1_Income support\" as float) +\n",
        "#cast(\"score_E2_Debt/contract relief\" as float) + cast(\"score_H1_Public information campaigns\" as float) + cast(\"score_H2_Testing policy\" as float) + cast(\"score_H3_Contact tracing\" as float) +\n",
        "#cast(\"score_H6M_Facial Coverings\" as float) + cast(\"score_H7_Vaccination policy\" as float) + cast(\"score_H8M_Protection of elderly people\" as float)) / 16.0 as GovernmentResponseIndex\n",
        "#from final_score\n",
        "#\"\"\"\n",
        "\n",
        "query = \"\"\"\n",
        "select RegionName, Date, round((`scoreC1M_school closing` + `score_C2M_Workplace closing` + `score_C3M_Cancel public events` + `score_C4M_Restrictions on gatherings` +\n",
        "`score_C5M_Close public transport` + `score_C6M_Stay at home requirements` + `score_C7M_Restrictions on internal movement` + `score_C8EV_International travel controls` +\n",
        "`score_E1_Income support` + `score_E2_Debt/contract relief` + `score_H1_Public information campaigns` + `score_H2_Testing policy` +\n",
        "`score_H3_Contact tracing` + `score_H6M_Facial Coverings` + `score_H7_Vaccination policy` + `score_H8M_Protection of elderly people`) / 16, 2) as GovernmentResponseIndex\n",
        "from final_score\n",
        "\"\"\"\n",
        "full_df = spark.sql(query)\n",
        "full_df.show(20)\n",
        "#full_score_df = score_df.withColumn('Test', ((score_df['scoreC1M_School closing'] + score_df['score_C2M_workplace closing']) / 2))\n",
        "\n",
        "#full_score_df = score_df.withColumn('GovernmentResponseIndex', )\n",
        "\n",
        "#df.select(colsToSum.map(col).reduce((c1, c2) => c1 + c2) as \"sum\")\n",
        "\n",
        "#full_score_df.show()"
      ],
      "metadata": {
        "colab": {
          "base_uri": "https://localhost:8080/"
        },
        "id": "CUAbccPR3NQC",
        "outputId": "242b9c42-96ed-4dcb-f2a2-30acad312c5c"
      },
      "execution_count": 143,
      "outputs": [
        {
          "output_type": "stream",
          "name": "stdout",
          "text": [
            "+----------+------+-----------------------+\n",
            "|RegionName|  Date|GovernmentResponseIndex|\n",
            "+----------+------+-----------------------+\n",
            "|   Alabama|202001|                    0.0|\n",
            "|   Alabama|202002|                    9.9|\n",
            "|   Alabama|202003|                   40.1|\n",
            "|   Alabama|202004|                  67.71|\n",
            "|   Alabama|202005|                  60.68|\n",
            "|   Alabama|202006|                  59.64|\n",
            "|   Alabama|202007|                  56.25|\n",
            "|   Alabama|202008|                  46.35|\n",
            "|   Alabama|202009|                   52.6|\n",
            "|   Alabama|202010|                   47.4|\n",
            "|   Alabama|202011|                   47.4|\n",
            "|   Alabama|202012|                   47.4|\n",
            "|   Alabama|202101|                   49.9|\n",
            "|   Alabama|202102|                  47.81|\n",
            "|   Alabama|202103|                  47.81|\n",
            "|   Alabama|202104|                  48.18|\n",
            "|   Alabama|202105|                  46.09|\n",
            "|   Alabama|202106|                  42.71|\n",
            "|   Alabama|202107|                  40.63|\n",
            "|   Alabama|202108|                  40.89|\n",
            "+----------+------+-----------------------+\n",
            "only showing top 20 rows\n",
            "\n"
          ]
        }
      ]
    },
    {
      "cell_type": "code",
      "source": [
        "# Save Q2 to text file\n",
        "q2_df = full_df.toPandas()\n",
        "q2_df.to_csv(\"Q2.txt\", index=False)"
      ],
      "metadata": {
        "id": "4DMjp_QSFHzG"
      },
      "execution_count": 144,
      "outputs": []
    },
    {
      "cell_type": "code",
      "source": [
        "# Load in Fj and Nj\n",
        "flag_values = [1, 1, 1, 1, 1, 1, 1, 0, 1, 0, 1, 0, 0, 1, 1, 1]\n",
        "ind_values = [3, 3, 2, 4, 2, 3, 2, 4, 2, 2, 2, 3, 2, 4, 5, 3]\n",
        "flag_dict = dict(zip(full_indicator_flags, flag_values))\n",
        "ind_dict = dict(zip(indicators, ind_values))\n",
        "print(flag_dict, ind_dict)"
      ],
      "metadata": {
        "id": "8rGgeaYbF-bz",
        "colab": {
          "base_uri": "https://localhost:8080/"
        },
        "outputId": "aafe727c-3000-4dd2-9f41-64f09fe241d3"
      },
      "execution_count": 49,
      "outputs": [
        {
          "output_type": "stream",
          "name": "stdout",
          "text": [
            "{'C1M_Flag': 1, 'C2M_Flag': 1, 'C3M_Flag': 1, 'C4M_Flag': 1, 'C5M_Flag': 1, 'C6M_Flag': 1, 'C7M_Flag': 1, 'C8EV_Flag': 0, 'E1_Flag': 1, 'E2_Flag': 0, 'H1_Flag': 1, 'H2_Flag': 0, 'H3_Flag': 0, 'H6M_Flag': 1, 'H7_Flag': 1, 'H8M_Flag': 1} {'C1M_School closing': 3, 'C2M_Workplace closing': 3, 'C3M_Cancel public events': 2, 'C4M_Restrictions on gatherings': 4, 'C5M_Close public transport': 2, 'C6M_Stay at home requirements': 3, 'C7M_Restrictions on internal movement': 2, 'C8EV_International travel controls': 4, 'E1_Income support': 2, 'E2_Debt/contract relief': 2, 'H1_Public information campaigns': 2, 'H2_Testing policy': 3, 'H3_Contact tracing': 2, 'H6M_Facial Coverings': 4, 'H7_Vaccination policy': 5, 'H8M_Protection of elderly people': 3}\n"
          ]
        }
      ]
    },
    {
      "cell_type": "code",
      "source": [
        "# You may use below lists to get indicators and flags header\n",
        "indicators = [\"C1M_School closing\",\n",
        "\"C2M_Workplace closing\",\n",
        "\"C3M_Cancel public events\",\n",
        "\"C4M_Restrictions on gatherings\",\n",
        "\"C5M_Close public transport\",\n",
        "\"C6M_Stay at home requirements\",\n",
        "\"C7M_Restrictions on internal movement\",\n",
        "\"C8EV_International travel controls\",\n",
        "\"E1_Income support\",\n",
        "\"E2_Debt/contract relief\",\n",
        "\"H1_Public information campaigns\",\n",
        "\"H2_Testing policy\",\n",
        "\"H3_Contact tracing\",\n",
        "\"H6M_Facial Coverings\",\n",
        "\"H7_Vaccination policy\",\n",
        "\"H8M_Protection of elderly people\"]\n",
        "\n",
        "indicator_flags = [\"C1M_Flag\",\n",
        "\"C2M_Flag\",\n",
        "\"C3M_Flag\",\n",
        "\"C4M_Flag\",\n",
        "\"C5M_Flag\",\n",
        "\"C6M_Flag\",\n",
        "\"C7M_Flag\",\n",
        "\"E1_Flag\",\n",
        "\"H1_Flag\",\n",
        "\"H6M_Flag\",\n",
        "\"H7_Flag\",\n",
        "\"H8M_Flag\"]\n",
        "\n",
        "full_indicator_flags = [\"C1M_Flag\",\n",
        "\"C2M_Flag\",\n",
        "\"C3M_Flag\",\n",
        "\"C4M_Flag\",\n",
        "\"C5M_Flag\",\n",
        "\"C6M_Flag\",\n",
        "\"C7M_Flag\",\n",
        "\"C8EV_Flag\",\n",
        "\"E1_Flag\",\n",
        "\"E2_Flag\",\n",
        "\"H1_Flag\",\n",
        "\"H2_Flag\",\n",
        "\"H3_Flag\",\n",
        "\"H6M_Flag\",\n",
        "\"H7_Flag\",\n",
        "\"H8M_Flag\"]"
      ],
      "metadata": {
        "id": "aqQjGWmB7ykZ"
      },
      "execution_count": 48,
      "outputs": []
    },
    {
      "cell_type": "code",
      "source": [
        "# Group and Aggregate Data based on Date # Using SQL\n",
        "OxCGRT.show()"
      ],
      "metadata": {
        "id": "d2K1AQjVyXQj"
      },
      "execution_count": null,
      "outputs": []
    },
    {
      "cell_type": "markdown",
      "source": [
        "Run your function in the next cells to output required content."
      ],
      "metadata": {
        "id": "rEocWs4stsKs"
      }
    },
    {
      "cell_type": "code",
      "source": [],
      "metadata": {
        "id": "OReazs5stsbh"
      },
      "execution_count": null,
      "outputs": []
    },
    {
      "cell_type": "markdown",
      "source": [
        "### Q3 - Association Rules"
      ],
      "metadata": {
        "id": "7d6NcDhRtuTK"
      }
    },
    {
      "cell_type": "code",
      "source": [
        "def transform_to_items(df):\n",
        "    \"\"\"\n",
        "      INPUT:\n",
        "          df: spark dataframe\n",
        "      OUTPUT:\n",
        "          list itemsets: list\n",
        "\n",
        "      NOTE: output a list itemsets from given dataframe.\n",
        "      \"\"\"\n",
        "      # YOUR CODE HERE"
      ],
      "metadata": {
        "id": "m4okMWMT8ApT"
      },
      "execution_count": null,
      "outputs": []
    },
    {
      "cell_type": "code",
      "source": [
        "def apriori(items, min_sup, itemset_size):\n",
        "    \"\"\"\n",
        "    INPUT:\n",
        "        items: list\n",
        "        min_sup: the min support\n",
        "    OUTPUT:\n",
        "        list of frequent itemsets: list\n",
        "\n",
        "    NOTE: output a list of frequent itemsets.\n",
        "    \"\"\"\n",
        "    # YOUR CODE HERE\n",
        "\n",
        "# You may have additional functions"
      ],
      "metadata": {
        "id": "jYTwc9Cgtw87"
      },
      "execution_count": null,
      "outputs": []
    },
    {
      "cell_type": "markdown",
      "source": [
        "Run your function in the next cells to output required content."
      ],
      "metadata": {
        "id": "YCZOK6SIxfXg"
      }
    },
    {
      "cell_type": "code",
      "source": [],
      "metadata": {
        "id": "ccexb2wsxgxn"
      },
      "execution_count": null,
      "outputs": []
    }
  ]
}